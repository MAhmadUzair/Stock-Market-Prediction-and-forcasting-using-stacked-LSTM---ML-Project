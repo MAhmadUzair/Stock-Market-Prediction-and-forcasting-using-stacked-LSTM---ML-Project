{
  "cells": [
    {
      "cell_type": "markdown",
      "id": "a298aefc",
      "metadata": {
        "id": "a298aefc"
      },
      "source": [
        "#                                         Lets Grow More\n",
        "\n",
        "##                      Virtual Internship Program - *Data Science* (July 2023)\n",
        "\n",
        "#                               Name - Muhammad Ahmad Uzair\n",
        "\n",
        "#\n",
        "\n",
        "## Task 2 - Stock Market Prediction And Forecasting Using Stacked LSTM\n",
        "\n",
        "### Datasetlinks: : https://raw.githubusercontent.com/mwitiderrick/stockprice/master/NSE-TATAGLOBAL.csv"
      ]
    },
    {
      "cell_type": "markdown",
      "id": "377c0dc6",
      "metadata": {
        "id": "377c0dc6"
      },
      "source": [
        "##\n",
        "## Importing necessLibraries"
      ]
    },
    {
      "cell_type": "code",
      "execution_count": 5,
      "id": "12d42654",
      "metadata": {
        "id": "12d42654"
      },
      "outputs": [],
      "source": [
        "import pandas as pd\n",
        "import numpy as np\n",
        "import math\n",
        "import matplotlib.pyplot as plt\n",
        "from sklearn.preprocessing import MinMaxScaler\n",
        "from sklearn.metrics import mean_squared_error\n",
        "import tensorflow as tf\n",
        "from tensorflow.python.keras.models import Sequential\n",
        "from tensorflow.python.keras.layers import Dense\n",
        "from tensorflow.python.keras.layers import LSTM\n",
        "%matplotlib inline"
      ]
    },
    {
      "cell_type": "markdown",
      "id": "041c1fd4",
      "metadata": {
        "id": "041c1fd4"
      },
      "source": [
        "## Checking my tensorflow version"
      ]
    },
    {
      "cell_type": "code",
      "execution_count": 6,
      "id": "7c0441b3",
      "metadata": {
        "colab": {
          "base_uri": "https://localhost:8080/",
          "height": 35
        },
        "id": "7c0441b3",
        "outputId": "6d73980d-b340-4f70-806f-58ba4ed39c5f"
      },
      "outputs": [
        {
          "output_type": "execute_result",
          "data": {
            "text/plain": [
              "'2.12.0'"
            ],
            "application/vnd.google.colaboratory.intrinsic+json": {
              "type": "string"
            }
          },
          "metadata": {},
          "execution_count": 6
        }
      ],
      "source": [
        "\n",
        "tf.__version__"
      ]
    },
    {
      "cell_type": "markdown",
      "id": "af25f939",
      "metadata": {
        "id": "af25f939"
      },
      "source": [
        "## Loading the Dataset"
      ]
    },
    {
      "cell_type": "code",
      "execution_count": 7,
      "id": "c18e5349",
      "metadata": {
        "colab": {
          "base_uri": "https://localhost:8080/",
          "height": 206
        },
        "id": "c18e5349",
        "outputId": "509b3d31-d5f8-4c05-a19c-8baa66b3b7f9"
      },
      "outputs": [
        {
          "output_type": "execute_result",
          "data": {
            "text/plain": [
              "            Date   Open    High     Low    Last   Close  Total Trade Quantity  \\\n",
              "2034  2010-07-21  122.1  123.00  121.05  121.10  121.55                658666   \n",
              "2033  2010-07-22  120.3  122.00  120.25  120.75  120.90                293312   \n",
              "2032  2010-07-23  121.8  121.95  120.25  120.35  120.65                281312   \n",
              "2031  2010-07-26  120.1  121.00  117.10  117.10  117.60                658440   \n",
              "2030  2010-07-27  117.6  119.50  112.00  118.80  118.65                586100   \n",
              "\n",
              "      Turnover (Lacs)  \n",
              "2034           803.56  \n",
              "2033           355.17  \n",
              "2032           340.31  \n",
              "2031           780.01  \n",
              "2030           694.98  "
            ],
            "text/html": [
              "\n",
              "  <div id=\"df-c07c6361-2035-4103-8e82-4847874a4cd6\">\n",
              "    <div class=\"colab-df-container\">\n",
              "      <div>\n",
              "<style scoped>\n",
              "    .dataframe tbody tr th:only-of-type {\n",
              "        vertical-align: middle;\n",
              "    }\n",
              "\n",
              "    .dataframe tbody tr th {\n",
              "        vertical-align: top;\n",
              "    }\n",
              "\n",
              "    .dataframe thead th {\n",
              "        text-align: right;\n",
              "    }\n",
              "</style>\n",
              "<table border=\"1\" class=\"dataframe\">\n",
              "  <thead>\n",
              "    <tr style=\"text-align: right;\">\n",
              "      <th></th>\n",
              "      <th>Date</th>\n",
              "      <th>Open</th>\n",
              "      <th>High</th>\n",
              "      <th>Low</th>\n",
              "      <th>Last</th>\n",
              "      <th>Close</th>\n",
              "      <th>Total Trade Quantity</th>\n",
              "      <th>Turnover (Lacs)</th>\n",
              "    </tr>\n",
              "  </thead>\n",
              "  <tbody>\n",
              "    <tr>\n",
              "      <th>2034</th>\n",
              "      <td>2010-07-21</td>\n",
              "      <td>122.1</td>\n",
              "      <td>123.00</td>\n",
              "      <td>121.05</td>\n",
              "      <td>121.10</td>\n",
              "      <td>121.55</td>\n",
              "      <td>658666</td>\n",
              "      <td>803.56</td>\n",
              "    </tr>\n",
              "    <tr>\n",
              "      <th>2033</th>\n",
              "      <td>2010-07-22</td>\n",
              "      <td>120.3</td>\n",
              "      <td>122.00</td>\n",
              "      <td>120.25</td>\n",
              "      <td>120.75</td>\n",
              "      <td>120.90</td>\n",
              "      <td>293312</td>\n",
              "      <td>355.17</td>\n",
              "    </tr>\n",
              "    <tr>\n",
              "      <th>2032</th>\n",
              "      <td>2010-07-23</td>\n",
              "      <td>121.8</td>\n",
              "      <td>121.95</td>\n",
              "      <td>120.25</td>\n",
              "      <td>120.35</td>\n",
              "      <td>120.65</td>\n",
              "      <td>281312</td>\n",
              "      <td>340.31</td>\n",
              "    </tr>\n",
              "    <tr>\n",
              "      <th>2031</th>\n",
              "      <td>2010-07-26</td>\n",
              "      <td>120.1</td>\n",
              "      <td>121.00</td>\n",
              "      <td>117.10</td>\n",
              "      <td>117.10</td>\n",
              "      <td>117.60</td>\n",
              "      <td>658440</td>\n",
              "      <td>780.01</td>\n",
              "    </tr>\n",
              "    <tr>\n",
              "      <th>2030</th>\n",
              "      <td>2010-07-27</td>\n",
              "      <td>117.6</td>\n",
              "      <td>119.50</td>\n",
              "      <td>112.00</td>\n",
              "      <td>118.80</td>\n",
              "      <td>118.65</td>\n",
              "      <td>586100</td>\n",
              "      <td>694.98</td>\n",
              "    </tr>\n",
              "  </tbody>\n",
              "</table>\n",
              "</div>\n",
              "      <button class=\"colab-df-convert\" onclick=\"convertToInteractive('df-c07c6361-2035-4103-8e82-4847874a4cd6')\"\n",
              "              title=\"Convert this dataframe to an interactive table.\"\n",
              "              style=\"display:none;\">\n",
              "        \n",
              "  <svg xmlns=\"http://www.w3.org/2000/svg\" height=\"24px\"viewBox=\"0 0 24 24\"\n",
              "       width=\"24px\">\n",
              "    <path d=\"M0 0h24v24H0V0z\" fill=\"none\"/>\n",
              "    <path d=\"M18.56 5.44l.94 2.06.94-2.06 2.06-.94-2.06-.94-.94-2.06-.94 2.06-2.06.94zm-11 1L8.5 8.5l.94-2.06 2.06-.94-2.06-.94L8.5 2.5l-.94 2.06-2.06.94zm10 10l.94 2.06.94-2.06 2.06-.94-2.06-.94-.94-2.06-.94 2.06-2.06.94z\"/><path d=\"M17.41 7.96l-1.37-1.37c-.4-.4-.92-.59-1.43-.59-.52 0-1.04.2-1.43.59L10.3 9.45l-7.72 7.72c-.78.78-.78 2.05 0 2.83L4 21.41c.39.39.9.59 1.41.59.51 0 1.02-.2 1.41-.59l7.78-7.78 2.81-2.81c.8-.78.8-2.07 0-2.86zM5.41 20L4 18.59l7.72-7.72 1.47 1.35L5.41 20z\"/>\n",
              "  </svg>\n",
              "      </button>\n",
              "      \n",
              "  <style>\n",
              "    .colab-df-container {\n",
              "      display:flex;\n",
              "      flex-wrap:wrap;\n",
              "      gap: 12px;\n",
              "    }\n",
              "\n",
              "    .colab-df-convert {\n",
              "      background-color: #E8F0FE;\n",
              "      border: none;\n",
              "      border-radius: 50%;\n",
              "      cursor: pointer;\n",
              "      display: none;\n",
              "      fill: #1967D2;\n",
              "      height: 32px;\n",
              "      padding: 0 0 0 0;\n",
              "      width: 32px;\n",
              "    }\n",
              "\n",
              "    .colab-df-convert:hover {\n",
              "      background-color: #E2EBFA;\n",
              "      box-shadow: 0px 1px 2px rgba(60, 64, 67, 0.3), 0px 1px 3px 1px rgba(60, 64, 67, 0.15);\n",
              "      fill: #174EA6;\n",
              "    }\n",
              "\n",
              "    [theme=dark] .colab-df-convert {\n",
              "      background-color: #3B4455;\n",
              "      fill: #D2E3FC;\n",
              "    }\n",
              "\n",
              "    [theme=dark] .colab-df-convert:hover {\n",
              "      background-color: #434B5C;\n",
              "      box-shadow: 0px 1px 3px 1px rgba(0, 0, 0, 0.15);\n",
              "      filter: drop-shadow(0px 1px 2px rgba(0, 0, 0, 0.3));\n",
              "      fill: #FFFFFF;\n",
              "    }\n",
              "  </style>\n",
              "\n",
              "      <script>\n",
              "        const buttonEl =\n",
              "          document.querySelector('#df-c07c6361-2035-4103-8e82-4847874a4cd6 button.colab-df-convert');\n",
              "        buttonEl.style.display =\n",
              "          google.colab.kernel.accessAllowed ? 'block' : 'none';\n",
              "\n",
              "        async function convertToInteractive(key) {\n",
              "          const element = document.querySelector('#df-c07c6361-2035-4103-8e82-4847874a4cd6');\n",
              "          const dataTable =\n",
              "            await google.colab.kernel.invokeFunction('convertToInteractive',\n",
              "                                                     [key], {});\n",
              "          if (!dataTable) return;\n",
              "\n",
              "          const docLinkHtml = 'Like what you see? Visit the ' +\n",
              "            '<a target=\"_blank\" href=https://colab.research.google.com/notebooks/data_table.ipynb>data table notebook</a>'\n",
              "            + ' to learn more about interactive tables.';\n",
              "          element.innerHTML = '';\n",
              "          dataTable['output_type'] = 'display_data';\n",
              "          await google.colab.output.renderOutput(dataTable, element);\n",
              "          const docLink = document.createElement('div');\n",
              "          docLink.innerHTML = docLinkHtml;\n",
              "          element.appendChild(docLink);\n",
              "        }\n",
              "      </script>\n",
              "    </div>\n",
              "  </div>\n",
              "  "
            ]
          },
          "metadata": {},
          "execution_count": 7
        }
      ],
      "source": [
        "#Import the data and remove rows containing NAN values\n",
        "df = pd.read_csv('https://raw.githubusercontent.com/mwitiderrick/stockprice/master/NSE-TATAGLOBAL.csv')\n",
        "df=df. iloc[::-1]\n",
        "df.head()"
      ]
    },
    {
      "cell_type": "code",
      "execution_count": 8,
      "id": "47e41102",
      "metadata": {
        "colab": {
          "base_uri": "https://localhost:8080/",
          "height": 206
        },
        "id": "47e41102",
        "outputId": "03dd719a-9e17-4488-a9c4-d336b1b35b0b"
      },
      "outputs": [
        {
          "output_type": "execute_result",
          "data": {
            "text/plain": [
              "         Date    Open    High     Low    Last   Close  Total Trade Quantity  \\\n",
              "4  2018-09-24  233.55  239.20  230.75  234.00  233.30               3423509   \n",
              "3  2018-09-25  233.30  236.75  232.00  236.25  236.10               2349368   \n",
              "2  2018-09-26  240.00  240.00  232.50  235.00  234.25               2240909   \n",
              "1  2018-09-27  234.55  236.80  231.10  233.80  233.25               5082859   \n",
              "0  2018-09-28  234.05  235.95  230.20  233.50  233.75               3069914   \n",
              "\n",
              "   Turnover (Lacs)  \n",
              "4          7999.55  \n",
              "3          5503.90  \n",
              "2          5248.60  \n",
              "1         11859.95  \n",
              "0          7162.35  "
            ],
            "text/html": [
              "\n",
              "  <div id=\"df-355013d9-cd2e-4c99-9df6-35448e6dd0e0\">\n",
              "    <div class=\"colab-df-container\">\n",
              "      <div>\n",
              "<style scoped>\n",
              "    .dataframe tbody tr th:only-of-type {\n",
              "        vertical-align: middle;\n",
              "    }\n",
              "\n",
              "    .dataframe tbody tr th {\n",
              "        vertical-align: top;\n",
              "    }\n",
              "\n",
              "    .dataframe thead th {\n",
              "        text-align: right;\n",
              "    }\n",
              "</style>\n",
              "<table border=\"1\" class=\"dataframe\">\n",
              "  <thead>\n",
              "    <tr style=\"text-align: right;\">\n",
              "      <th></th>\n",
              "      <th>Date</th>\n",
              "      <th>Open</th>\n",
              "      <th>High</th>\n",
              "      <th>Low</th>\n",
              "      <th>Last</th>\n",
              "      <th>Close</th>\n",
              "      <th>Total Trade Quantity</th>\n",
              "      <th>Turnover (Lacs)</th>\n",
              "    </tr>\n",
              "  </thead>\n",
              "  <tbody>\n",
              "    <tr>\n",
              "      <th>4</th>\n",
              "      <td>2018-09-24</td>\n",
              "      <td>233.55</td>\n",
              "      <td>239.20</td>\n",
              "      <td>230.75</td>\n",
              "      <td>234.00</td>\n",
              "      <td>233.30</td>\n",
              "      <td>3423509</td>\n",
              "      <td>7999.55</td>\n",
              "    </tr>\n",
              "    <tr>\n",
              "      <th>3</th>\n",
              "      <td>2018-09-25</td>\n",
              "      <td>233.30</td>\n",
              "      <td>236.75</td>\n",
              "      <td>232.00</td>\n",
              "      <td>236.25</td>\n",
              "      <td>236.10</td>\n",
              "      <td>2349368</td>\n",
              "      <td>5503.90</td>\n",
              "    </tr>\n",
              "    <tr>\n",
              "      <th>2</th>\n",
              "      <td>2018-09-26</td>\n",
              "      <td>240.00</td>\n",
              "      <td>240.00</td>\n",
              "      <td>232.50</td>\n",
              "      <td>235.00</td>\n",
              "      <td>234.25</td>\n",
              "      <td>2240909</td>\n",
              "      <td>5248.60</td>\n",
              "    </tr>\n",
              "    <tr>\n",
              "      <th>1</th>\n",
              "      <td>2018-09-27</td>\n",
              "      <td>234.55</td>\n",
              "      <td>236.80</td>\n",
              "      <td>231.10</td>\n",
              "      <td>233.80</td>\n",
              "      <td>233.25</td>\n",
              "      <td>5082859</td>\n",
              "      <td>11859.95</td>\n",
              "    </tr>\n",
              "    <tr>\n",
              "      <th>0</th>\n",
              "      <td>2018-09-28</td>\n",
              "      <td>234.05</td>\n",
              "      <td>235.95</td>\n",
              "      <td>230.20</td>\n",
              "      <td>233.50</td>\n",
              "      <td>233.75</td>\n",
              "      <td>3069914</td>\n",
              "      <td>7162.35</td>\n",
              "    </tr>\n",
              "  </tbody>\n",
              "</table>\n",
              "</div>\n",
              "      <button class=\"colab-df-convert\" onclick=\"convertToInteractive('df-355013d9-cd2e-4c99-9df6-35448e6dd0e0')\"\n",
              "              title=\"Convert this dataframe to an interactive table.\"\n",
              "              style=\"display:none;\">\n",
              "        \n",
              "  <svg xmlns=\"http://www.w3.org/2000/svg\" height=\"24px\"viewBox=\"0 0 24 24\"\n",
              "       width=\"24px\">\n",
              "    <path d=\"M0 0h24v24H0V0z\" fill=\"none\"/>\n",
              "    <path d=\"M18.56 5.44l.94 2.06.94-2.06 2.06-.94-2.06-.94-.94-2.06-.94 2.06-2.06.94zm-11 1L8.5 8.5l.94-2.06 2.06-.94-2.06-.94L8.5 2.5l-.94 2.06-2.06.94zm10 10l.94 2.06.94-2.06 2.06-.94-2.06-.94-.94-2.06-.94 2.06-2.06.94z\"/><path d=\"M17.41 7.96l-1.37-1.37c-.4-.4-.92-.59-1.43-.59-.52 0-1.04.2-1.43.59L10.3 9.45l-7.72 7.72c-.78.78-.78 2.05 0 2.83L4 21.41c.39.39.9.59 1.41.59.51 0 1.02-.2 1.41-.59l7.78-7.78 2.81-2.81c.8-.78.8-2.07 0-2.86zM5.41 20L4 18.59l7.72-7.72 1.47 1.35L5.41 20z\"/>\n",
              "  </svg>\n",
              "      </button>\n",
              "      \n",
              "  <style>\n",
              "    .colab-df-container {\n",
              "      display:flex;\n",
              "      flex-wrap:wrap;\n",
              "      gap: 12px;\n",
              "    }\n",
              "\n",
              "    .colab-df-convert {\n",
              "      background-color: #E8F0FE;\n",
              "      border: none;\n",
              "      border-radius: 50%;\n",
              "      cursor: pointer;\n",
              "      display: none;\n",
              "      fill: #1967D2;\n",
              "      height: 32px;\n",
              "      padding: 0 0 0 0;\n",
              "      width: 32px;\n",
              "    }\n",
              "\n",
              "    .colab-df-convert:hover {\n",
              "      background-color: #E2EBFA;\n",
              "      box-shadow: 0px 1px 2px rgba(60, 64, 67, 0.3), 0px 1px 3px 1px rgba(60, 64, 67, 0.15);\n",
              "      fill: #174EA6;\n",
              "    }\n",
              "\n",
              "    [theme=dark] .colab-df-convert {\n",
              "      background-color: #3B4455;\n",
              "      fill: #D2E3FC;\n",
              "    }\n",
              "\n",
              "    [theme=dark] .colab-df-convert:hover {\n",
              "      background-color: #434B5C;\n",
              "      box-shadow: 0px 1px 3px 1px rgba(0, 0, 0, 0.15);\n",
              "      filter: drop-shadow(0px 1px 2px rgba(0, 0, 0, 0.3));\n",
              "      fill: #FFFFFF;\n",
              "    }\n",
              "  </style>\n",
              "\n",
              "      <script>\n",
              "        const buttonEl =\n",
              "          document.querySelector('#df-355013d9-cd2e-4c99-9df6-35448e6dd0e0 button.colab-df-convert');\n",
              "        buttonEl.style.display =\n",
              "          google.colab.kernel.accessAllowed ? 'block' : 'none';\n",
              "\n",
              "        async function convertToInteractive(key) {\n",
              "          const element = document.querySelector('#df-355013d9-cd2e-4c99-9df6-35448e6dd0e0');\n",
              "          const dataTable =\n",
              "            await google.colab.kernel.invokeFunction('convertToInteractive',\n",
              "                                                     [key], {});\n",
              "          if (!dataTable) return;\n",
              "\n",
              "          const docLinkHtml = 'Like what you see? Visit the ' +\n",
              "            '<a target=\"_blank\" href=https://colab.research.google.com/notebooks/data_table.ipynb>data table notebook</a>'\n",
              "            + ' to learn more about interactive tables.';\n",
              "          element.innerHTML = '';\n",
              "          dataTable['output_type'] = 'display_data';\n",
              "          await google.colab.output.renderOutput(dataTable, element);\n",
              "          const docLink = document.createElement('div');\n",
              "          docLink.innerHTML = docLinkHtml;\n",
              "          element.appendChild(docLink);\n",
              "        }\n",
              "      </script>\n",
              "    </div>\n",
              "  </div>\n",
              "  "
            ]
          },
          "metadata": {},
          "execution_count": 8
        }
      ],
      "source": [
        "df.tail()"
      ]
    },
    {
      "cell_type": "markdown",
      "id": "dd7bec5a",
      "metadata": {
        "id": "dd7bec5a"
      },
      "source": [
        "## Data Preprocessing"
      ]
    },
    {
      "cell_type": "code",
      "execution_count": 9,
      "id": "4e2f0a63",
      "metadata": {
        "colab": {
          "base_uri": "https://localhost:8080/"
        },
        "id": "4e2f0a63",
        "outputId": "4bab0e04-048d-4bb7-e7e7-76c8b54ad351"
      },
      "outputs": [
        {
          "output_type": "execute_result",
          "data": {
            "text/plain": [
              "Date                    0\n",
              "Open                    0\n",
              "High                    0\n",
              "Low                     0\n",
              "Last                    0\n",
              "Close                   0\n",
              "Total Trade Quantity    0\n",
              "Turnover (Lacs)         0\n",
              "dtype: int64"
            ]
          },
          "metadata": {},
          "execution_count": 9
        }
      ],
      "source": [
        "df.isnull().sum()"
      ]
    },
    {
      "cell_type": "code",
      "execution_count": 10,
      "id": "59724686",
      "metadata": {
        "colab": {
          "base_uri": "https://localhost:8080/"
        },
        "id": "59724686",
        "outputId": "7ec76805-596d-4194-b7f7-01dfc6bc5b4a"
      },
      "outputs": [
        {
          "output_type": "execute_result",
          "data": {
            "text/plain": [
              "(2035, 8)"
            ]
          },
          "metadata": {},
          "execution_count": 10
        }
      ],
      "source": [
        "df.shape"
      ]
    },
    {
      "cell_type": "code",
      "execution_count": 11,
      "id": "1f527964",
      "metadata": {
        "id": "1f527964"
      },
      "outputs": [],
      "source": [
        "df_high=df.reset_index()['High']"
      ]
    },
    {
      "cell_type": "code",
      "execution_count": 12,
      "id": "ab2b086b",
      "metadata": {
        "colab": {
          "base_uri": "https://localhost:8080/",
          "height": 447
        },
        "id": "ab2b086b",
        "outputId": "99331135-8620-4230-c862-ae388378e990"
      },
      "outputs": [
        {
          "output_type": "execute_result",
          "data": {
            "text/plain": [
              "[<matplotlib.lines.Line2D at 0x7f72fd3e5e70>]"
            ]
          },
          "metadata": {},
          "execution_count": 12
        },
        {
          "output_type": "display_data",
          "data": {
            "text/plain": [
              "<Figure size 640x480 with 1 Axes>"
            ],
            "image/png": "[encoded data removed]"
          },
          "metadata": {}
        }
      ],
      "source": [
        "plt.plot(df_high)"
      ]
    },
    {
      "cell_type": "markdown",
      "id": "ba348ab5",
      "metadata": {
        "id": "ba348ab5"
      },
      "source": [
        "Since LSTM are sensitive to the scale of the data, so we apply MinMax Scaler to transform our values between 0 and 1"
      ]
    },
    {
      "cell_type": "code",
      "execution_count": 13,
      "id": "0dc65805",
      "metadata": {
        "id": "0dc65805"
      },
      "outputs": [],
      "source": [
        "scaler = MinMaxScaler(feature_range = (0,1))\n",
        "df_high = scaler.fit_transform(np.array(df_high).reshape(-1,1))"
      ]
    },
    {
      "cell_type": "code",
      "execution_count": 14,
      "id": "7f863310",
      "metadata": {
        "colab": {
          "base_uri": "https://localhost:8080/"
        },
        "id": "7f863310",
        "outputId": "e0a99584-7a12-4b96-97bc-08ec39a6e0f1"
      },
      "outputs": [
        {
          "output_type": "execute_result",
          "data": {
            "text/plain": [
              "(2035, 1)"
            ]
          },
          "metadata": {},
          "execution_count": 14
        }
      ],
      "source": [
        "df_high.shape"
      ]
    },
    {
      "cell_type": "code",
      "execution_count": 15,
      "id": "095bb0a6",
      "metadata": {
        "colab": {
          "base_uri": "https://localhost:8080/"
        },
        "id": "095bb0a6",
        "outputId": "c191d479-4b35-4123-ae54-662681608eaf"
      },
      "outputs": [
        {
          "output_type": "execute_result",
          "data": {
            "text/plain": [
              "array([[0.16344786],\n",
              "       [0.15938199],\n",
              "       [0.15917869],\n",
              "       ...,\n",
              "       [0.6391543 ],\n",
              "       [0.62614353],\n",
              "       [0.62268754]])"
            ]
          },
          "metadata": {},
          "execution_count": 15
        }
      ],
      "source": [
        "df_high"
      ]
    },
    {
      "cell_type": "markdown",
      "id": "23f75e0c",
      "metadata": {
        "id": "23f75e0c"
      },
      "source": [
        "## Split the data into train and test split"
      ]
    },
    {
      "cell_type": "code",
      "execution_count": 16,
      "id": "d8b66c99",
      "metadata": {
        "id": "d8b66c99"
      },
      "outputs": [],
      "source": [
        "\n",
        "training_size = int(len(df_high) * 0.75)\n",
        "test_size = len(df_high) - training_size\n",
        "train_data, test_data = df_high[0:training_size,:], df_high[training_size:len(df_high),:1]"
      ]
    },
    {
      "cell_type": "code",
      "execution_count": 17,
      "id": "fe8e67cd",
      "metadata": {
        "colab": {
          "base_uri": "https://localhost:8080/"
        },
        "id": "fe8e67cd",
        "outputId": "8e2b8763-759e-4377-ef26-8ffb03b21a6c"
      },
      "outputs": [
        {
          "output_type": "execute_result",
          "data": {
            "text/plain": [
              "(1526, 509)"
            ]
          },
          "metadata": {},
          "execution_count": 17
        }
      ],
      "source": [
        "training_size,test_size"
      ]
    },
    {
      "cell_type": "code",
      "execution_count": 18,
      "id": "020ec9dc",
      "metadata": {
        "id": "020ec9dc"
      },
      "outputs": [],
      "source": [
        "def create_dataset(dataset, time_step = 1):\n",
        "    dataX, dataY = [], []\n",
        "    for i in range(len(dataset) - time_step - 1):\n",
        "        a = dataset[i:(i+time_step), 0]\n",
        "        dataX.append(a)\n",
        "        dataY.append(dataset[i+time_step, 0])\n",
        "    return np.array(dataX), np.array(dataY)"
      ]
    },
    {
      "cell_type": "code",
      "execution_count": 19,
      "id": "4a7b54d3",
      "metadata": {
        "id": "4a7b54d3"
      },
      "outputs": [],
      "source": [
        "time_step = 100\n",
        "x_train, y_train = create_dataset(train_data, time_step)\n",
        "x_test, y_test = create_dataset(test_data, time_step)"
      ]
    },
    {
      "cell_type": "code",
      "execution_count": 20,
      "id": "a02149ee",
      "metadata": {
        "id": "a02149ee"
      },
      "outputs": [],
      "source": [
        "#Reshape the input to be [samples, time steps, features] which is the requirement of LSTM\n",
        "x_train = x_train.reshape(x_train.shape[0], x_train.shape[1], 1)\n",
        "x_test = x_test.reshape(x_test.shape[0], x_test.shape[1], 1)"
      ]
    },
    {
      "cell_type": "code",
      "execution_count": 21,
      "id": "b4ab7bd3",
      "metadata": {
        "colab": {
          "base_uri": "https://localhost:8080/"
        },
        "id": "b4ab7bd3",
        "outputId": "f8807bc4-59aa-4106-9fc1-2f7f6a0ea27f"
      },
      "outputs": [
        {
          "output_type": "stream",
          "name": "stdout",
          "text": [
            "(1425, 100, 1)\n",
            "(1425,)\n"
          ]
        },
        {
          "output_type": "execute_result",
          "data": {
            "text/plain": [
              "(None, None)"
            ]
          },
          "metadata": {},
          "execution_count": 21
        }
      ],
      "source": [
        "print(x_train.shape), print(y_train.shape)"
      ]
    },
    {
      "cell_type": "code",
      "execution_count": 22,
      "id": "43a6d57e",
      "metadata": {
        "colab": {
          "base_uri": "https://localhost:8080/"
        },
        "id": "43a6d57e",
        "outputId": "b7c3307e-bb7b-43bc-9949-29bfad38349c"
      },
      "outputs": [
        {
          "output_type": "stream",
          "name": "stdout",
          "text": [
            "(408, 100, 1)\n",
            "(408,)\n"
          ]
        },
        {
          "output_type": "execute_result",
          "data": {
            "text/plain": [
              "(None, None)"
            ]
          },
          "metadata": {},
          "execution_count": 22
        }
      ],
      "source": [
        "print(x_test.shape), print(y_test.shape)"
      ]
    },
    {
      "cell_type": "markdown",
      "id": "cea4302a",
      "metadata": {
        "id": "cea4302a"
      },
      "source": [
        "## Creating the LSTM Model"
      ]
    },
    {
      "cell_type": "code",
      "execution_count": 23,
      "id": "ffd0dd4a",
      "metadata": {
        "id": "ffd0dd4a"
      },
      "outputs": [],
      "source": [
        "model = Sequential()\n",
        "model.add(LSTM(50, return_sequences = True, input_shape = (100,1)))\n",
        "model.add(LSTM(50, return_sequences = True))\n",
        "model.add(LSTM(50))\n",
        "model.add(Dense(1))\n",
        "model.compile(loss = 'mean_squared_error', optimizer = 'adam')\n"
      ]
    },
    {
      "cell_type": "code",
      "execution_count": 24,
      "id": "f621ee3f",
      "metadata": {
        "scrolled": true,
        "colab": {
          "base_uri": "https://localhost:8080/"
        },
        "id": "f621ee3f",
        "outputId": "4132ae2b-e2bd-4699-d6f4-900b43a79016"
      },
      "outputs": [
        {
          "output_type": "stream",
          "name": "stdout",
          "text": [
            "Model: \"sequential\"\n",
            "_________________________________________________________________\n",
            "Layer (type)                 Output Shape              Param #   \n",
            "=================================================================\n",
            "lstm (LSTM)                  (None, 100, 50)           10400     \n",
            "_________________________________________________________________\n",
            "lstm_1 (LSTM)                (None, 100, 50)           20200     \n",
            "_________________________________________________________________\n",
            "lstm_2 (LSTM)                (None, 50)                20200     \n",
            "_________________________________________________________________\n",
            "dense (Dense)                (None, 1)                 51        \n",
            "=================================================================\n",
            "Total params: 50,851\n",
            "Trainable params: 50,851\n",
            "Non-trainable params: 0\n",
            "_________________________________________________________________\n"
          ]
        }
      ],
      "source": [
        "model.summary()"
      ]
    },
    {
      "cell_type": "code",
      "execution_count": 25,
      "id": "c41caf82",
      "metadata": {
        "scrolled": false,
        "colab": {
          "base_uri": "https://localhost:8080/"
        },
        "id": "c41caf82",
        "outputId": "6aa79594-4061-49e9-d930-ba9e6d62199d"
      },
      "outputs": [
        {
          "output_type": "stream",
          "name": "stdout",
          "text": [
            "Epoch 1/100\n",
            "23/23 [==============================] - 11s 251ms/step - loss: 0.0073 - val_loss: 0.0163\n",
            "Epoch 2/100\n",
            "23/23 [==============================] - 6s 257ms/step - loss: 0.0013 - val_loss: 0.0062\n",
            "Epoch 3/100\n",
            "23/23 [==============================] - 5s 225ms/step - loss: 8.5876e-04 - val_loss: 0.0058\n",
            "Epoch 4/100\n",
            "23/23 [==============================] - 6s 260ms/step - loss: 8.1087e-04 - val_loss: 0.0050\n",
            "Epoch 5/100\n",
            "23/23 [==============================] - 5s 224ms/step - loss: 7.8285e-04 - val_loss: 0.0054\n",
            "Epoch 6/100\n",
            "23/23 [==============================] - 6s 259ms/step - loss: 7.6247e-04 - val_loss: 0.0050\n",
            "Epoch 7/100\n",
            "23/23 [==============================] - 7s 298ms/step - loss: 7.4419e-04 - val_loss: 0.0060\n",
            "Epoch 8/100\n",
            "23/23 [==============================] - 6s 260ms/step - loss: 7.2330e-04 - val_loss: 0.0043\n",
            "Epoch 9/100\n",
            "23/23 [==============================] - 5s 224ms/step - loss: 6.7126e-04 - val_loss: 0.0027\n",
            "Epoch 10/100\n",
            "23/23 [==============================] - 6s 257ms/step - loss: 6.5552e-04 - val_loss: 0.0036\n",
            "Epoch 11/100\n",
            "23/23 [==============================] - 5s 225ms/step - loss: 6.0631e-04 - val_loss: 0.0022\n",
            "Epoch 12/100\n",
            "23/23 [==============================] - 6s 258ms/step - loss: 5.8072e-04 - val_loss: 0.0044\n",
            "Epoch 13/100\n",
            "23/23 [==============================] - 5s 222ms/step - loss: 5.7743e-04 - val_loss: 0.0050\n",
            "Epoch 14/100\n",
            "23/23 [==============================] - 6s 258ms/step - loss: 5.2891e-04 - val_loss: 0.0024\n",
            "Epoch 15/100\n",
            "23/23 [==============================] - 5s 223ms/step - loss: 5.4124e-04 - val_loss: 0.0033\n",
            "Epoch 16/100\n",
            "23/23 [==============================] - 5s 237ms/step - loss: 4.9139e-04 - val_loss: 0.0054\n",
            "Epoch 17/100\n",
            "23/23 [==============================] - 6s 235ms/step - loss: 4.7987e-04 - val_loss: 0.0063\n",
            "Epoch 18/100\n",
            "23/23 [==============================] - 5s 222ms/step - loss: 4.9868e-04 - val_loss: 0.0073\n",
            "Epoch 19/100\n",
            "23/23 [==============================] - 6s 259ms/step - loss: 4.6269e-04 - val_loss: 0.0103\n",
            "Epoch 20/100\n",
            "23/23 [==============================] - 5s 223ms/step - loss: 4.4897e-04 - val_loss: 0.0100\n",
            "Epoch 21/100\n",
            "23/23 [==============================] - 6s 261ms/step - loss: 4.5237e-04 - val_loss: 0.0092\n",
            "Epoch 22/100\n",
            "23/23 [==============================] - 5s 224ms/step - loss: 4.3755e-04 - val_loss: 0.0061\n",
            "Epoch 23/100\n",
            "23/23 [==============================] - 6s 261ms/step - loss: 4.1423e-04 - val_loss: 0.0033\n",
            "Epoch 24/100\n",
            "23/23 [==============================] - 5s 225ms/step - loss: 4.3972e-04 - val_loss: 0.0067\n",
            "Epoch 25/100\n",
            "23/23 [==============================] - 6s 256ms/step - loss: 3.9520e-04 - val_loss: 0.0104\n",
            "Epoch 26/100\n",
            "23/23 [==============================] - 5s 224ms/step - loss: 4.1432e-04 - val_loss: 0.0069\n",
            "Epoch 27/100\n",
            "23/23 [==============================] - 6s 260ms/step - loss: 3.7623e-04 - val_loss: 0.0067\n",
            "Epoch 28/100\n",
            "23/23 [==============================] - 5s 220ms/step - loss: 3.8373e-04 - val_loss: 0.0031\n",
            "Epoch 29/100\n",
            "23/23 [==============================] - 6s 259ms/step - loss: 3.7693e-04 - val_loss: 0.0040\n",
            "Epoch 30/100\n",
            "23/23 [==============================] - 5s 224ms/step - loss: 3.4967e-04 - val_loss: 0.0046\n",
            "Epoch 31/100\n",
            "23/23 [==============================] - 5s 230ms/step - loss: 3.2911e-04 - val_loss: 0.0050\n",
            "Epoch 32/100\n",
            "23/23 [==============================] - 6s 240ms/step - loss: 3.1224e-04 - val_loss: 0.0047\n",
            "Epoch 33/100\n",
            "23/23 [==============================] - 5s 222ms/step - loss: 3.0041e-04 - val_loss: 0.0044\n",
            "Epoch 34/100\n",
            "23/23 [==============================] - 6s 260ms/step - loss: 2.9120e-04 - val_loss: 0.0066\n",
            "Epoch 35/100\n",
            "23/23 [==============================] - 5s 227ms/step - loss: 2.9159e-04 - val_loss: 0.0058\n",
            "Epoch 36/100\n",
            "23/23 [==============================] - 6s 259ms/step - loss: 3.1418e-04 - val_loss: 0.0075\n",
            "Epoch 37/100\n",
            "23/23 [==============================] - 5s 223ms/step - loss: 3.3655e-04 - val_loss: 0.0049\n",
            "Epoch 38/100\n",
            "23/23 [==============================] - 6s 260ms/step - loss: 2.6280e-04 - val_loss: 0.0017\n",
            "Epoch 39/100\n",
            "23/23 [==============================] - 5s 223ms/step - loss: 2.6831e-04 - val_loss: 0.0019\n",
            "Epoch 40/100\n",
            "23/23 [==============================] - 6s 260ms/step - loss: 2.6253e-04 - val_loss: 0.0023\n",
            "Epoch 41/100\n",
            "23/23 [==============================] - 5s 224ms/step - loss: 2.3649e-04 - val_loss: 0.0018\n",
            "Epoch 42/100\n",
            "23/23 [==============================] - 6s 262ms/step - loss: 2.3186e-04 - val_loss: 0.0017\n",
            "Epoch 43/100\n",
            "23/23 [==============================] - 5s 224ms/step - loss: 2.2235e-04 - val_loss: 0.0039\n",
            "Epoch 44/100\n",
            "23/23 [==============================] - 6s 259ms/step - loss: 2.2336e-04 - val_loss: 0.0018\n",
            "Epoch 45/100\n",
            "23/23 [==============================] - 5s 222ms/step - loss: 2.1776e-04 - val_loss: 0.0019\n",
            "Epoch 46/100\n",
            "23/23 [==============================] - 5s 232ms/step - loss: 2.0268e-04 - val_loss: 0.0010\n",
            "Epoch 47/100\n",
            "23/23 [==============================] - 6s 242ms/step - loss: 2.0507e-04 - val_loss: 0.0021\n",
            "Epoch 48/100\n",
            "23/23 [==============================] - 5s 223ms/step - loss: 2.0346e-04 - val_loss: 6.8854e-04\n",
            "Epoch 49/100\n",
            "23/23 [==============================] - 6s 259ms/step - loss: 2.0885e-04 - val_loss: 0.0016\n",
            "Epoch 50/100\n",
            "23/23 [==============================] - 5s 220ms/step - loss: 2.0388e-04 - val_loss: 8.2122e-04\n",
            "Epoch 51/100\n",
            "23/23 [==============================] - 6s 261ms/step - loss: 1.7335e-04 - val_loss: 0.0022\n",
            "Epoch 52/100\n",
            "23/23 [==============================] - 12s 533ms/step - loss: 1.8122e-04 - val_loss: 0.0013\n",
            "Epoch 53/100\n",
            "23/23 [==============================] - 9s 376ms/step - loss: 1.9968e-04 - val_loss: 6.5775e-04\n",
            "Epoch 54/100\n",
            "23/23 [==============================] - 5s 222ms/step - loss: 1.6892e-04 - val_loss: 8.0978e-04\n",
            "Epoch 55/100\n",
            "23/23 [==============================] - 5s 236ms/step - loss: 1.6323e-04 - val_loss: 0.0010\n",
            "Epoch 56/100\n",
            "23/23 [==============================] - 6s 246ms/step - loss: 1.5435e-04 - val_loss: 4.5665e-04\n",
            "Epoch 57/100\n",
            "23/23 [==============================] - 5s 225ms/step - loss: 1.6461e-04 - val_loss: 0.0025\n",
            "Epoch 58/100\n",
            "23/23 [==============================] - 6s 262ms/step - loss: 1.6849e-04 - val_loss: 0.0015\n",
            "Epoch 59/100\n",
            "23/23 [==============================] - 5s 226ms/step - loss: 1.6151e-04 - val_loss: 3.9218e-04\n",
            "Epoch 60/100\n",
            "23/23 [==============================] - 6s 261ms/step - loss: 1.6076e-04 - val_loss: 3.9142e-04\n",
            "Epoch 61/100\n",
            "23/23 [==============================] - 5s 225ms/step - loss: 1.5340e-04 - val_loss: 8.1697e-04\n",
            "Epoch 62/100\n",
            "23/23 [==============================] - 6s 260ms/step - loss: 1.3818e-04 - val_loss: 0.0010\n",
            "Epoch 63/100\n",
            "23/23 [==============================] - 7s 294ms/step - loss: 1.5722e-04 - val_loss: 3.8294e-04\n",
            "Epoch 64/100\n",
            "23/23 [==============================] - 6s 263ms/step - loss: 1.4513e-04 - val_loss: 3.7001e-04\n",
            "Epoch 65/100\n",
            "23/23 [==============================] - 5s 225ms/step - loss: 1.5736e-04 - val_loss: 0.0015\n",
            "Epoch 66/100\n",
            "23/23 [==============================] - 6s 261ms/step - loss: 1.5262e-04 - val_loss: 5.0671e-04\n",
            "Epoch 67/100\n",
            "23/23 [==============================] - 5s 223ms/step - loss: 1.3690e-04 - val_loss: 7.4004e-04\n",
            "Epoch 68/100\n",
            "23/23 [==============================] - 6s 262ms/step - loss: 1.2835e-04 - val_loss: 6.0346e-04\n",
            "Epoch 69/100\n",
            "23/23 [==============================] - 5s 225ms/step - loss: 1.2345e-04 - val_loss: 3.6820e-04\n",
            "Epoch 70/100\n",
            "23/23 [==============================] - 6s 260ms/step - loss: 1.3288e-04 - val_loss: 4.0175e-04\n",
            "Epoch 71/100\n",
            "23/23 [==============================] - 5s 225ms/step - loss: 1.3452e-04 - val_loss: 0.0010\n",
            "Epoch 72/100\n",
            "23/23 [==============================] - 6s 259ms/step - loss: 1.3788e-04 - val_loss: 0.0011\n",
            "Epoch 73/100\n",
            "23/23 [==============================] - 5s 222ms/step - loss: 1.3498e-04 - val_loss: 3.8983e-04\n",
            "Epoch 74/100\n",
            "23/23 [==============================] - 6s 255ms/step - loss: 1.2056e-04 - val_loss: 4.9088e-04\n",
            "Epoch 75/100\n",
            "23/23 [==============================] - 5s 223ms/step - loss: 1.1639e-04 - val_loss: 6.6056e-04\n",
            "Epoch 76/100\n",
            "23/23 [==============================] - 5s 230ms/step - loss: 1.2500e-04 - val_loss: 8.1221e-04\n",
            "Epoch 77/100\n",
            "23/23 [==============================] - 6s 249ms/step - loss: 1.5341e-04 - val_loss: 4.2795e-04\n",
            "Epoch 78/100\n",
            "23/23 [==============================] - 5s 223ms/step - loss: 1.2015e-04 - val_loss: 5.7623e-04\n",
            "Epoch 79/100\n",
            "23/23 [==============================] - 6s 258ms/step - loss: 1.1398e-04 - val_loss: 6.8391e-04\n",
            "Epoch 80/100\n",
            "23/23 [==============================] - 5s 222ms/step - loss: 1.1685e-04 - val_loss: 9.2002e-04\n",
            "Epoch 81/100\n",
            "23/23 [==============================] - 6s 257ms/step - loss: 1.1890e-04 - val_loss: 3.8010e-04\n",
            "Epoch 82/100\n",
            "23/23 [==============================] - 5s 222ms/step - loss: 1.1919e-04 - val_loss: 5.3398e-04\n",
            "Epoch 83/100\n",
            "23/23 [==============================] - 6s 259ms/step - loss: 1.1836e-04 - val_loss: 3.8682e-04\n",
            "Epoch 84/100\n",
            "23/23 [==============================] - 5s 223ms/step - loss: 1.3370e-04 - val_loss: 4.2680e-04\n",
            "Epoch 85/100\n",
            "23/23 [==============================] - 6s 259ms/step - loss: 1.3355e-04 - val_loss: 0.0011\n",
            "Epoch 86/100\n",
            "23/23 [==============================] - 5s 223ms/step - loss: 1.4763e-04 - val_loss: 4.6319e-04\n",
            "Epoch 87/100\n",
            "23/23 [==============================] - 6s 258ms/step - loss: 1.2352e-04 - val_loss: 5.1794e-04\n",
            "Epoch 88/100\n",
            "23/23 [==============================] - 5s 224ms/step - loss: 1.1648e-04 - val_loss: 9.5717e-04\n",
            "Epoch 89/100\n",
            "23/23 [==============================] - 6s 246ms/step - loss: 1.2038e-04 - val_loss: 4.7974e-04\n",
            "Epoch 90/100\n",
            "23/23 [==============================] - 5s 229ms/step - loss: 1.1849e-04 - val_loss: 4.7414e-04\n",
            "Epoch 91/100\n",
            "23/23 [==============================] - 5s 223ms/step - loss: 1.1767e-04 - val_loss: 0.0010\n",
            "Epoch 92/100\n",
            "23/23 [==============================] - 6s 254ms/step - loss: 1.1580e-04 - val_loss: 4.3063e-04\n",
            "Epoch 93/100\n",
            "23/23 [==============================] - 5s 223ms/step - loss: 1.2694e-04 - val_loss: 0.0010\n",
            "Epoch 94/100\n",
            "23/23 [==============================] - 6s 256ms/step - loss: 1.1747e-04 - val_loss: 6.1886e-04\n",
            "Epoch 95/100\n",
            "23/23 [==============================] - 5s 221ms/step - loss: 1.1623e-04 - val_loss: 4.7309e-04\n",
            "Epoch 96/100\n",
            "23/23 [==============================] - 6s 257ms/step - loss: 1.1017e-04 - val_loss: 6.1385e-04\n",
            "Epoch 97/100\n",
            "23/23 [==============================] - 5s 221ms/step - loss: 1.1633e-04 - val_loss: 4.1840e-04\n",
            "Epoch 98/100\n",
            "23/23 [==============================] - 6s 257ms/step - loss: 1.2494e-04 - val_loss: 4.2040e-04\n",
            "Epoch 99/100\n",
            "23/23 [==============================] - 5s 223ms/step - loss: 1.2331e-04 - val_loss: 4.4815e-04\n",
            "Epoch 100/100\n",
            "23/23 [==============================] - 6s 256ms/step - loss: 1.2977e-04 - val_loss: 7.0374e-04\n"
          ]
        },
        {
          "output_type": "execute_result",
          "data": {
            "text/plain": [
              "<tensorflow.python.keras.callbacks.History at 0x7f72ebf209a0>"
            ]
          },
          "metadata": {},
          "execution_count": 25
        }
      ],
      "source": [
        "model.fit(x_train, y_train, validation_data = (x_test, y_test), epochs = 100, batch_size = 64, verbose = 1)"
      ]
    },
    {
      "cell_type": "markdown",
      "id": "284d9d10",
      "metadata": {
        "id": "284d9d10"
      },
      "source": [
        "## Predicting and checking performance metrics"
      ]
    },
    {
      "cell_type": "code",
      "execution_count": 26,
      "id": "d0003fa1",
      "metadata": {
        "id": "d0003fa1"
      },
      "outputs": [],
      "source": [
        "\n",
        "train_predict = model.predict(x_train)\n",
        "test_predict = model.predict(x_test)"
      ]
    },
    {
      "cell_type": "markdown",
      "id": "6e4b2350",
      "metadata": {
        "id": "6e4b2350"
      },
      "source": [
        "## Transforming back to original form"
      ]
    },
    {
      "cell_type": "code",
      "execution_count": 27,
      "id": "a349c7cd",
      "metadata": {
        "id": "a349c7cd"
      },
      "outputs": [],
      "source": [
        "\n",
        "train_predict = scaler.inverse_transform(train_predict)\n",
        "test_predict = scaler.inverse_transform(test_predict)"
      ]
    },
    {
      "cell_type": "markdown",
      "id": "b21ac22b",
      "metadata": {
        "id": "b21ac22b"
      },
      "source": [
        "## Calculating RMSE performance metrics"
      ]
    },
    {
      "cell_type": "code",
      "execution_count": 28,
      "id": "a1b7fa95",
      "metadata": {
        "colab": {
          "base_uri": "https://localhost:8080/"
        },
        "id": "a1b7fa95",
        "outputId": "fa30a24f-a760-4090-cf34-afc620dc324f"
      },
      "outputs": [
        {
          "output_type": "execute_result",
          "data": {
            "text/plain": [
              "135.12636155138932"
            ]
          },
          "metadata": {},
          "execution_count": 28
        }
      ],
      "source": [
        "\n",
        "math.sqrt(mean_squared_error(y_train, train_predict))"
      ]
    },
    {
      "cell_type": "markdown",
      "id": "20f43d46",
      "metadata": {
        "id": "20f43d46"
      },
      "source": [
        "## Testing Data RMSE"
      ]
    },
    {
      "cell_type": "code",
      "execution_count": 29,
      "id": "708ea6c7",
      "metadata": {
        "colab": {
          "base_uri": "https://localhost:8080/"
        },
        "id": "708ea6c7",
        "outputId": "050ebf82-a9ed-46ba-b9ee-0801b1c8accf"
      },
      "outputs": [
        {
          "output_type": "execute_result",
          "data": {
            "text/plain": [
              "228.7358779600014"
            ]
          },
          "metadata": {},
          "execution_count": 29
        }
      ],
      "source": [
        "\n",
        "math.sqrt(mean_squared_error(y_test, test_predict))"
      ]
    },
    {
      "cell_type": "markdown",
      "id": "4e15b542",
      "metadata": {
        "id": "4e15b542"
      },
      "source": [
        "## Plotting"
      ]
    },
    {
      "cell_type": "code",
      "execution_count": 30,
      "id": "59143b5e",
      "metadata": {
        "colab": {
          "base_uri": "https://localhost:8080/",
          "height": 430
        },
        "id": "59143b5e",
        "outputId": "fc4d2b70-9df3-4b06-b5ba-24860acd4b38"
      },
      "outputs": [
        {
          "output_type": "display_data",
          "data": {
            "text/plain": [
              "<Figure size 640x480 with 1 Axes>"
            ],
            "image/png": "[encoded data removed]"
          },
          "metadata": {}
        }
      ],
      "source": [
        "#Shift train prediction for plotting\n",
        "look_back = 100\n",
        "trainPredictPlot = np.empty_like(df_high)\n",
        "trainPredictPlot[:,:] = np.nan\n",
        "trainPredictPlot[look_back:len(train_predict) + look_back, :] = train_predict\n",
        "\n",
        "#Shift test prediction for plotting\n",
        "testPredictPlot = np.empty_like(df_high)\n",
        "testPredictPlot[:,:] = np.nan\n",
        "testPredictPlot[len(train_predict) + (look_back * 2)+1:len(df_high) - 1, :] = test_predict\n",
        "\n",
        "#Plot baseline and predictions\n",
        "plt.plot(scaler.inverse_transform(df_high))\n",
        "plt.plot(trainPredictPlot)\n",
        "plt.plot(testPredictPlot)\n",
        "plt.show()"
      ]
    },
    {
      "cell_type": "markdown",
      "id": "e7e6d58d",
      "metadata": {
        "id": "e7e6d58d"
      },
      "source": [
        "- Green indicates the Predicted Data\n",
        "- Blue indicates the Complete Data\n",
        "- Orange indicates the Train Data"
      ]
    },
    {
      "cell_type": "markdown",
      "id": "a02d3c21",
      "metadata": {
        "id": "a02d3c21"
      },
      "source": [
        "## Predicting the next 28 days Stock Price"
      ]
    },
    {
      "cell_type": "code",
      "execution_count": 31,
      "id": "f27ebd59",
      "metadata": {
        "colab": {
          "base_uri": "https://localhost:8080/"
        },
        "id": "f27ebd59",
        "outputId": "488bd891-bfae-41b5-b4cd-3bc68913b0b4"
      },
      "outputs": [
        {
          "output_type": "execute_result",
          "data": {
            "text/plain": [
              "(509, (408, 100, 1))"
            ]
          },
          "metadata": {},
          "execution_count": 31
        }
      ],
      "source": [
        "len(test_data), x_test.shape"
      ]
    },
    {
      "cell_type": "code",
      "execution_count": 32,
      "id": "44890664",
      "metadata": {
        "colab": {
          "base_uri": "https://localhost:8080/"
        },
        "id": "44890664",
        "outputId": "8ccc013e-444c-4571-871e-04c61c8d13d9"
      },
      "outputs": [
        {
          "output_type": "execute_result",
          "data": {
            "text/plain": [
              "(1, 100)"
            ]
          },
          "metadata": {},
          "execution_count": 32
        }
      ],
      "source": [
        "x_input = test_data[409:].reshape(1,-1)\n",
        "x_input.shape"
      ]
    },
    {
      "cell_type": "code",
      "execution_count": 33,
      "id": "766e881b",
      "metadata": {
        "id": "766e881b"
      },
      "outputs": [],
      "source": [
        "temp_input = list(x_input)\n",
        "temp_input = temp_input[0].tolist()"
      ]
    },
    {
      "cell_type": "code",
      "execution_count": 34,
      "id": "a5ce5d8f",
      "metadata": {
        "scrolled": true,
        "colab": {
          "base_uri": "https://localhost:8080/"
        },
        "id": "a5ce5d8f",
        "outputId": "eb595def-388f-4ead-c564-af935e173a32"
      },
      "outputs": [
        {
          "output_type": "stream",
          "name": "stdout",
          "text": [
            "[0.6083399]\n",
            "101\n",
            "1 day input [0.86013417 0.85464525 0.84448059 0.8072779  0.71843871 0.66192316\n",
            " 0.67696686 0.67554381 0.67310429 0.68428542 0.68936776 0.70217524\n",
            " 0.71803212 0.72941655 0.73144948 0.74486684 0.76926205 0.75991055\n",
            " 0.74242732 0.73958122 0.74771295 0.75991055 0.7584875  0.76621264\n",
            " 0.75462492 0.76316324 0.79670665 0.80585485 0.7889815  0.78003659\n",
            " 0.73978451 0.73002643 0.73490547 0.74872942 0.75991055 0.75462492\n",
            " 0.75401504 0.76174019 0.7737345  0.82008538 0.80585485 0.81154706\n",
            " 0.77434438 0.78633869 0.79284407 0.78328929 0.77109169 0.74385038\n",
            " 0.71193332 0.68733482 0.67818662 0.65257166 0.64301687 0.65643423\n",
            " 0.67656028 0.67371417 0.65114861 0.65521447 0.66761537 0.67838992\n",
            " 0.69993901 0.63122586 0.63508843 0.64098394 0.64545639 0.64118723\n",
            " 0.63854442 0.63081927 0.62472047 0.6330555  0.64728603 0.6574507\n",
            " 0.66761537 0.66720878 0.64159382 0.62776987 0.63651149 0.63630819\n",
            " 0.62980281 0.62817646 0.63813783 0.65358813 0.63183574 0.57653995\n",
            " 0.57816629 0.57613336 0.61943484 0.57979264 0.57288067 0.62573694\n",
            " 0.63102257 0.6361049  0.62776987 0.6269567  0.63590161 0.62594023\n",
            " 0.6391543  0.62614353 0.62268754 0.60833991]\n",
            "1 day output [[0.58404946]]\n",
            "2 day input [0.85464525 0.84448059 0.8072779  0.71843871 0.66192316 0.67696686\n",
            " 0.67554381 0.67310429 0.68428542 0.68936776 0.70217524 0.71803212\n",
            " 0.72941655 0.73144948 0.74486684 0.76926205 0.75991055 0.74242732\n",
            " 0.73958122 0.74771295 0.75991055 0.7584875  0.76621264 0.75462492\n",
            " 0.76316324 0.79670665 0.80585485 0.7889815  0.78003659 0.73978451\n",
            " 0.73002643 0.73490547 0.74872942 0.75991055 0.75462492 0.75401504\n",
            " 0.76174019 0.7737345  0.82008538 0.80585485 0.81154706 0.77434438\n",
            " 0.78633869 0.79284407 0.78328929 0.77109169 0.74385038 0.71193332\n",
            " 0.68733482 0.67818662 0.65257166 0.64301687 0.65643423 0.67656028\n",
            " 0.67371417 0.65114861 0.65521447 0.66761537 0.67838992 0.69993901\n",
            " 0.63122586 0.63508843 0.64098394 0.64545639 0.64118723 0.63854442\n",
            " 0.63081927 0.62472047 0.6330555  0.64728603 0.6574507  0.66761537\n",
            " 0.66720878 0.64159382 0.62776987 0.63651149 0.63630819 0.62980281\n",
            " 0.62817646 0.63813783 0.65358813 0.63183574 0.57653995 0.57816629\n",
            " 0.57613336 0.61943484 0.57979264 0.57288067 0.62573694 0.63102257\n",
            " 0.6361049  0.62776987 0.6269567  0.63590161 0.62594023 0.6391543\n",
            " 0.62614353 0.62268754 0.60833991 0.58404946]\n",
            "2 day output [[0.55824244]]\n",
            "3 day input [0.84448059 0.8072779  0.71843871 0.66192316 0.67696686 0.67554381\n",
            " 0.67310429 0.68428542 0.68936776 0.70217524 0.71803212 0.72941655\n",
            " 0.73144948 0.74486684 0.76926205 0.75991055 0.74242732 0.73958122\n",
            " 0.74771295 0.75991055 0.7584875  0.76621264 0.75462492 0.76316324\n",
            " 0.79670665 0.80585485 0.7889815  0.78003659 0.73978451 0.73002643\n",
            " 0.73490547 0.74872942 0.75991055 0.75462492 0.75401504 0.76174019\n",
            " 0.7737345  0.82008538 0.80585485 0.81154706 0.77434438 0.78633869\n",
            " 0.79284407 0.78328929 0.77109169 0.74385038 0.71193332 0.68733482\n",
            " 0.67818662 0.65257166 0.64301687 0.65643423 0.67656028 0.67371417\n",
            " 0.65114861 0.65521447 0.66761537 0.67838992 0.69993901 0.63122586\n",
            " 0.63508843 0.64098394 0.64545639 0.64118723 0.63854442 0.63081927\n",
            " 0.62472047 0.6330555  0.64728603 0.6574507  0.66761537 0.66720878\n",
            " 0.64159382 0.62776987 0.63651149 0.63630819 0.62980281 0.62817646\n",
            " 0.63813783 0.65358813 0.63183574 0.57653995 0.57816629 0.57613336\n",
            " 0.61943484 0.57979264 0.57288067 0.62573694 0.63102257 0.6361049\n",
            " 0.62776987 0.6269567  0.63590161 0.62594023 0.6391543  0.62614353\n",
            " 0.62268754 0.60833991 0.58404946 0.55824244]\n",
            "3 day output [[0.53340966]]\n",
            "4 day input [0.8072779  0.71843871 0.66192316 0.67696686 0.67554381 0.67310429\n",
            " 0.68428542 0.68936776 0.70217524 0.71803212 0.72941655 0.73144948\n",
            " 0.74486684 0.76926205 0.75991055 0.74242732 0.73958122 0.74771295\n",
            " 0.75991055 0.7584875  0.76621264 0.75462492 0.76316324 0.79670665\n",
            " 0.80585485 0.7889815  0.78003659 0.73978451 0.73002643 0.73490547\n",
            " 0.74872942 0.75991055 0.75462492 0.75401504 0.76174019 0.7737345\n",
            " 0.82008538 0.80585485 0.81154706 0.77434438 0.78633869 0.79284407\n",
            " 0.78328929 0.77109169 0.74385038 0.71193332 0.68733482 0.67818662\n",
            " 0.65257166 0.64301687 0.65643423 0.67656028 0.67371417 0.65114861\n",
            " 0.65521447 0.66761537 0.67838992 0.69993901 0.63122586 0.63508843\n",
            " 0.64098394 0.64545639 0.64118723 0.63854442 0.63081927 0.62472047\n",
            " 0.6330555  0.64728603 0.6574507  0.66761537 0.66720878 0.64159382\n",
            " 0.62776987 0.63651149 0.63630819 0.62980281 0.62817646 0.63813783\n",
            " 0.65358813 0.63183574 0.57653995 0.57816629 0.57613336 0.61943484\n",
            " 0.57979264 0.57288067 0.62573694 0.63102257 0.6361049  0.62776987\n",
            " 0.6269567  0.63590161 0.62594023 0.6391543  0.62614353 0.62268754\n",
            " 0.60833991 0.58404946 0.55824244 0.53340966]\n",
            "4 day output [[0.51035833]]\n",
            "5 day input [0.71843871 0.66192316 0.67696686 0.67554381 0.67310429 0.68428542\n",
            " 0.68936776 0.70217524 0.71803212 0.72941655 0.73144948 0.74486684\n",
            " 0.76926205 0.75991055 0.74242732 0.73958122 0.74771295 0.75991055\n",
            " 0.7584875  0.76621264 0.75462492 0.76316324 0.79670665 0.80585485\n",
            " 0.7889815  0.78003659 0.73978451 0.73002643 0.73490547 0.74872942\n",
            " 0.75991055 0.75462492 0.75401504 0.76174019 0.7737345  0.82008538\n",
            " 0.80585485 0.81154706 0.77434438 0.78633869 0.79284407 0.78328929\n",
            " 0.77109169 0.74385038 0.71193332 0.68733482 0.67818662 0.65257166\n",
            " 0.64301687 0.65643423 0.67656028 0.67371417 0.65114861 0.65521447\n",
            " 0.66761537 0.67838992 0.69993901 0.63122586 0.63508843 0.64098394\n",
            " 0.64545639 0.64118723 0.63854442 0.63081927 0.62472047 0.6330555\n",
            " 0.64728603 0.6574507  0.66761537 0.66720878 0.64159382 0.62776987\n",
            " 0.63651149 0.63630819 0.62980281 0.62817646 0.63813783 0.65358813\n",
            " 0.63183574 0.57653995 0.57816629 0.57613336 0.61943484 0.57979264\n",
            " 0.57288067 0.62573694 0.63102257 0.6361049  0.62776987 0.6269567\n",
            " 0.63590161 0.62594023 0.6391543  0.62614353 0.62268754 0.60833991\n",
            " 0.58404946 0.55824244 0.53340966 0.51035833]\n",
            "5 day output [[0.48952356]]\n",
            "6 day input [0.66192316 0.67696686 0.67554381 0.67310429 0.68428542 0.68936776\n",
            " 0.70217524 0.71803212 0.72941655 0.73144948 0.74486684 0.76926205\n",
            " 0.75991055 0.74242732 0.73958122 0.74771295 0.75991055 0.7584875\n",
            " 0.76621264 0.75462492 0.76316324 0.79670665 0.80585485 0.7889815\n",
            " 0.78003659 0.73978451 0.73002643 0.73490547 0.74872942 0.75991055\n",
            " 0.75462492 0.75401504 0.76174019 0.7737345  0.82008538 0.80585485\n",
            " 0.81154706 0.77434438 0.78633869 0.79284407 0.78328929 0.77109169\n",
            " 0.74385038 0.71193332 0.68733482 0.67818662 0.65257166 0.64301687\n",
            " 0.65643423 0.67656028 0.67371417 0.65114861 0.65521447 0.66761537\n",
            " 0.67838992 0.69993901 0.63122586 0.63508843 0.64098394 0.64545639\n",
            " 0.64118723 0.63854442 0.63081927 0.62472047 0.6330555  0.64728603\n",
            " 0.6574507  0.66761537 0.66720878 0.64159382 0.62776987 0.63651149\n",
            " 0.63630819 0.62980281 0.62817646 0.63813783 0.65358813 0.63183574\n",
            " 0.57653995 0.57816629 0.57613336 0.61943484 0.57979264 0.57288067\n",
            " 0.62573694 0.63102257 0.6361049  0.62776987 0.6269567  0.63590161\n",
            " 0.62594023 0.6391543  0.62614353 0.62268754 0.60833991 0.58404946\n",
            " 0.55824244 0.53340966 0.51035833 0.48952356]\n",
            "6 day output [[0.47108194]]\n",
            "7 day input [0.67696686 0.67554381 0.67310429 0.68428542 0.68936776 0.70217524\n",
            " 0.71803212 0.72941655 0.73144948 0.74486684 0.76926205 0.75991055\n",
            " 0.74242732 0.73958122 0.74771295 0.75991055 0.7584875  0.76621264\n",
            " 0.75462492 0.76316324 0.79670665 0.80585485 0.7889815  0.78003659\n",
            " 0.73978451 0.73002643 0.73490547 0.74872942 0.75991055 0.75462492\n",
            " 0.75401504 0.76174019 0.7737345  0.82008538 0.80585485 0.81154706\n",
            " 0.77434438 0.78633869 0.79284407 0.78328929 0.77109169 0.74385038\n",
            " 0.71193332 0.68733482 0.67818662 0.65257166 0.64301687 0.65643423\n",
            " 0.67656028 0.67371417 0.65114861 0.65521447 0.66761537 0.67838992\n",
            " 0.69993901 0.63122586 0.63508843 0.64098394 0.64545639 0.64118723\n",
            " 0.63854442 0.63081927 0.62472047 0.6330555  0.64728603 0.6574507\n",
            " 0.66761537 0.66720878 0.64159382 0.62776987 0.63651149 0.63630819\n",
            " 0.62980281 0.62817646 0.63813783 0.65358813 0.63183574 0.57653995\n",
            " 0.57816629 0.57613336 0.61943484 0.57979264 0.57288067 0.62573694\n",
            " 0.63102257 0.6361049  0.62776987 0.6269567  0.63590161 0.62594023\n",
            " 0.6391543  0.62614353 0.62268754 0.60833991 0.58404946 0.55824244\n",
            " 0.53340966 0.51035833 0.48952356 0.47108194]\n",
            "7 day output [[0.45500144]]\n",
            "8 day input [0.67554381 0.67310429 0.68428542 0.68936776 0.70217524 0.71803212\n",
            " 0.72941655 0.73144948 0.74486684 0.76926205 0.75991055 0.74242732\n",
            " 0.73958122 0.74771295 0.75991055 0.7584875  0.76621264 0.75462492\n",
            " 0.76316324 0.79670665 0.80585485 0.7889815  0.78003659 0.73978451\n",
            " 0.73002643 0.73490547 0.74872942 0.75991055 0.75462492 0.75401504\n",
            " 0.76174019 0.7737345  0.82008538 0.80585485 0.81154706 0.77434438\n",
            " 0.78633869 0.79284407 0.78328929 0.77109169 0.74385038 0.71193332\n",
            " 0.68733482 0.67818662 0.65257166 0.64301687 0.65643423 0.67656028\n",
            " 0.67371417 0.65114861 0.65521447 0.66761537 0.67838992 0.69993901\n",
            " 0.63122586 0.63508843 0.64098394 0.64545639 0.64118723 0.63854442\n",
            " 0.63081927 0.62472047 0.6330555  0.64728603 0.6574507  0.66761537\n",
            " 0.66720878 0.64159382 0.62776987 0.63651149 0.63630819 0.62980281\n",
            " 0.62817646 0.63813783 0.65358813 0.63183574 0.57653995 0.57816629\n",
            " 0.57613336 0.61943484 0.57979264 0.57288067 0.62573694 0.63102257\n",
            " 0.6361049  0.62776987 0.6269567  0.63590161 0.62594023 0.6391543\n",
            " 0.62614353 0.62268754 0.60833991 0.58404946 0.55824244 0.53340966\n",
            " 0.51035833 0.48952356 0.47108194 0.45500144]\n",
            "8 day output [[0.44110516]]\n",
            "9 day input [0.67310429 0.68428542 0.68936776 0.70217524 0.71803212 0.72941655\n",
            " 0.73144948 0.74486684 0.76926205 0.75991055 0.74242732 0.73958122\n",
            " 0.74771295 0.75991055 0.7584875  0.76621264 0.75462492 0.76316324\n",
            " 0.79670665 0.80585485 0.7889815  0.78003659 0.73978451 0.73002643\n",
            " 0.73490547 0.74872942 0.75991055 0.75462492 0.75401504 0.76174019\n",
            " 0.7737345  0.82008538 0.80585485 0.81154706 0.77434438 0.78633869\n",
            " 0.79284407 0.78328929 0.77109169 0.74385038 0.71193332 0.68733482\n",
            " 0.67818662 0.65257166 0.64301687 0.65643423 0.67656028 0.67371417\n",
            " 0.65114861 0.65521447 0.66761537 0.67838992 0.69993901 0.63122586\n",
            " 0.63508843 0.64098394 0.64545639 0.64118723 0.63854442 0.63081927\n",
            " 0.62472047 0.6330555  0.64728603 0.6574507  0.66761537 0.66720878\n",
            " 0.64159382 0.62776987 0.63651149 0.63630819 0.62980281 0.62817646\n",
            " 0.63813783 0.65358813 0.63183574 0.57653995 0.57816629 0.57613336\n",
            " 0.61943484 0.57979264 0.57288067 0.62573694 0.63102257 0.6361049\n",
            " 0.62776987 0.6269567  0.63590161 0.62594023 0.6391543  0.62614353\n",
            " 0.62268754 0.60833991 0.58404946 0.55824244 0.53340966 0.51035833\n",
            " 0.48952356 0.47108194 0.45500144 0.44110516]\n",
            "9 day output [[0.42913294]]\n",
            "10 day input [0.68428542 0.68936776 0.70217524 0.71803212 0.72941655 0.73144948\n",
            " 0.74486684 0.76926205 0.75991055 0.74242732 0.73958122 0.74771295\n",
            " 0.75991055 0.7584875  0.76621264 0.75462492 0.76316324 0.79670665\n",
            " 0.80585485 0.7889815  0.78003659 0.73978451 0.73002643 0.73490547\n",
            " 0.74872942 0.75991055 0.75462492 0.75401504 0.76174019 0.7737345\n",
            " 0.82008538 0.80585485 0.81154706 0.77434438 0.78633869 0.79284407\n",
            " 0.78328929 0.77109169 0.74385038 0.71193332 0.68733482 0.67818662\n",
            " 0.65257166 0.64301687 0.65643423 0.67656028 0.67371417 0.65114861\n",
            " 0.65521447 0.66761537 0.67838992 0.69993901 0.63122586 0.63508843\n",
            " 0.64098394 0.64545639 0.64118723 0.63854442 0.63081927 0.62472047\n",
            " 0.6330555  0.64728603 0.6574507  0.66761537 0.66720878 0.64159382\n",
            " 0.62776987 0.63651149 0.63630819 0.62980281 0.62817646 0.63813783\n",
            " 0.65358813 0.63183574 0.57653995 0.57816629 0.57613336 0.61943484\n",
            " 0.57979264 0.57288067 0.62573694 0.63102257 0.6361049  0.62776987\n",
            " 0.6269567  0.63590161 0.62594023 0.6391543  0.62614353 0.62268754\n",
            " 0.60833991 0.58404946 0.55824244 0.53340966 0.51035833 0.48952356\n",
            " 0.47108194 0.45500144 0.44110516 0.42913294]\n",
            "10 day output [[0.41879123]]\n",
            "11 day input [0.68936776 0.70217524 0.71803212 0.72941655 0.73144948 0.74486684\n",
            " 0.76926205 0.75991055 0.74242732 0.73958122 0.74771295 0.75991055\n",
            " 0.7584875  0.76621264 0.75462492 0.76316324 0.79670665 0.80585485\n",
            " 0.7889815  0.78003659 0.73978451 0.73002643 0.73490547 0.74872942\n",
            " 0.75991055 0.75462492 0.75401504 0.76174019 0.7737345  0.82008538\n",
            " 0.80585485 0.81154706 0.77434438 0.78633869 0.79284407 0.78328929\n",
            " 0.77109169 0.74385038 0.71193332 0.68733482 0.67818662 0.65257166\n",
            " 0.64301687 0.65643423 0.67656028 0.67371417 0.65114861 0.65521447\n",
            " 0.66761537 0.67838992 0.69993901 0.63122586 0.63508843 0.64098394\n",
            " 0.64545639 0.64118723 0.63854442 0.63081927 0.62472047 0.6330555\n",
            " 0.64728603 0.6574507  0.66761537 0.66720878 0.64159382 0.62776987\n",
            " 0.63651149 0.63630819 0.62980281 0.62817646 0.63813783 0.65358813\n",
            " 0.63183574 0.57653995 0.57816629 0.57613336 0.61943484 0.57979264\n",
            " 0.57288067 0.62573694 0.63102257 0.6361049  0.62776987 0.6269567\n",
            " 0.63590161 0.62594023 0.6391543  0.62614353 0.62268754 0.60833991\n",
            " 0.58404946 0.55824244 0.53340966 0.51035833 0.48952356 0.47108194\n",
            " 0.45500144 0.44110516 0.42913294 0.41879123]\n",
            "11 day output [[0.40978843]]\n",
            "12 day input [0.70217524 0.71803212 0.72941655 0.73144948 0.74486684 0.76926205\n",
            " 0.75991055 0.74242732 0.73958122 0.74771295 0.75991055 0.7584875\n",
            " 0.76621264 0.75462492 0.76316324 0.79670665 0.80585485 0.7889815\n",
            " 0.78003659 0.73978451 0.73002643 0.73490547 0.74872942 0.75991055\n",
            " 0.75462492 0.75401504 0.76174019 0.7737345  0.82008538 0.80585485\n",
            " 0.81154706 0.77434438 0.78633869 0.79284407 0.78328929 0.77109169\n",
            " 0.74385038 0.71193332 0.68733482 0.67818662 0.65257166 0.64301687\n",
            " 0.65643423 0.67656028 0.67371417 0.65114861 0.65521447 0.66761537\n",
            " 0.67838992 0.69993901 0.63122586 0.63508843 0.64098394 0.64545639\n",
            " 0.64118723 0.63854442 0.63081927 0.62472047 0.6330555  0.64728603\n",
            " 0.6574507  0.66761537 0.66720878 0.64159382 0.62776987 0.63651149\n",
            " 0.63630819 0.62980281 0.62817646 0.63813783 0.65358813 0.63183574\n",
            " 0.57653995 0.57816629 0.57613336 0.61943484 0.57979264 0.57288067\n",
            " 0.62573694 0.63102257 0.6361049  0.62776987 0.6269567  0.63590161\n",
            " 0.62594023 0.6391543  0.62614353 0.62268754 0.60833991 0.58404946\n",
            " 0.55824244 0.53340966 0.51035833 0.48952356 0.47108194 0.45500144\n",
            " 0.44110516 0.42913294 0.41879123 0.40978843]\n",
            "12 day output [[0.40185753]]\n",
            "13 day input [0.71803212 0.72941655 0.73144948 0.74486684 0.76926205 0.75991055\n",
            " 0.74242732 0.73958122 0.74771295 0.75991055 0.7584875  0.76621264\n",
            " 0.75462492 0.76316324 0.79670665 0.80585485 0.7889815  0.78003659\n",
            " 0.73978451 0.73002643 0.73490547 0.74872942 0.75991055 0.75462492\n",
            " 0.75401504 0.76174019 0.7737345  0.82008538 0.80585485 0.81154706\n",
            " 0.77434438 0.78633869 0.79284407 0.78328929 0.77109169 0.74385038\n",
            " 0.71193332 0.68733482 0.67818662 0.65257166 0.64301687 0.65643423\n",
            " 0.67656028 0.67371417 0.65114861 0.65521447 0.66761537 0.67838992\n",
            " 0.69993901 0.63122586 0.63508843 0.64098394 0.64545639 0.64118723\n",
            " 0.63854442 0.63081927 0.62472047 0.6330555  0.64728603 0.6574507\n",
            " 0.66761537 0.66720878 0.64159382 0.62776987 0.63651149 0.63630819\n",
            " 0.62980281 0.62817646 0.63813783 0.65358813 0.63183574 0.57653995\n",
            " 0.57816629 0.57613336 0.61943484 0.57979264 0.57288067 0.62573694\n",
            " 0.63102257 0.6361049  0.62776987 0.6269567  0.63590161 0.62594023\n",
            " 0.6391543  0.62614353 0.62268754 0.60833991 0.58404946 0.55824244\n",
            " 0.53340966 0.51035833 0.48952356 0.47108194 0.45500144 0.44110516\n",
            " 0.42913294 0.41879123 0.40978843 0.40185753]\n",
            "13 day output [[0.39476833]]\n",
            "14 day input [0.72941655 0.73144948 0.74486684 0.76926205 0.75991055 0.74242732\n",
            " 0.73958122 0.74771295 0.75991055 0.7584875  0.76621264 0.75462492\n",
            " 0.76316324 0.79670665 0.80585485 0.7889815  0.78003659 0.73978451\n",
            " 0.73002643 0.73490547 0.74872942 0.75991055 0.75462492 0.75401504\n",
            " 0.76174019 0.7737345  0.82008538 0.80585485 0.81154706 0.77434438\n",
            " 0.78633869 0.79284407 0.78328929 0.77109169 0.74385038 0.71193332\n",
            " 0.68733482 0.67818662 0.65257166 0.64301687 0.65643423 0.67656028\n",
            " 0.67371417 0.65114861 0.65521447 0.66761537 0.67838992 0.69993901\n",
            " 0.63122586 0.63508843 0.64098394 0.64545639 0.64118723 0.63854442\n",
            " 0.63081927 0.62472047 0.6330555  0.64728603 0.6574507  0.66761537\n",
            " 0.66720878 0.64159382 0.62776987 0.63651149 0.63630819 0.62980281\n",
            " 0.62817646 0.63813783 0.65358813 0.63183574 0.57653995 0.57816629\n",
            " 0.57613336 0.61943484 0.57979264 0.57288067 0.62573694 0.63102257\n",
            " 0.6361049  0.62776987 0.6269567  0.63590161 0.62594023 0.6391543\n",
            " 0.62614353 0.62268754 0.60833991 0.58404946 0.55824244 0.53340966\n",
            " 0.51035833 0.48952356 0.47108194 0.45500144 0.44110516 0.42913294\n",
            " 0.41879123 0.40978843 0.40185753 0.39476833]\n",
            "14 day output [[0.38833117]]\n",
            "15 day input [0.73144948 0.74486684 0.76926205 0.75991055 0.74242732 0.73958122\n",
            " 0.74771295 0.75991055 0.7584875  0.76621264 0.75462492 0.76316324\n",
            " 0.79670665 0.80585485 0.7889815  0.78003659 0.73978451 0.73002643\n",
            " 0.73490547 0.74872942 0.75991055 0.75462492 0.75401504 0.76174019\n",
            " 0.7737345  0.82008538 0.80585485 0.81154706 0.77434438 0.78633869\n",
            " 0.79284407 0.78328929 0.77109169 0.74385038 0.71193332 0.68733482\n",
            " 0.67818662 0.65257166 0.64301687 0.65643423 0.67656028 0.67371417\n",
            " 0.65114861 0.65521447 0.66761537 0.67838992 0.69993901 0.63122586\n",
            " 0.63508843 0.64098394 0.64545639 0.64118723 0.63854442 0.63081927\n",
            " 0.62472047 0.6330555  0.64728603 0.6574507  0.66761537 0.66720878\n",
            " 0.64159382 0.62776987 0.63651149 0.63630819 0.62980281 0.62817646\n",
            " 0.63813783 0.65358813 0.63183574 0.57653995 0.57816629 0.57613336\n",
            " 0.61943484 0.57979264 0.57288067 0.62573694 0.63102257 0.6361049\n",
            " 0.62776987 0.6269567  0.63590161 0.62594023 0.6391543  0.62614353\n",
            " 0.62268754 0.60833991 0.58404946 0.55824244 0.53340966 0.51035833\n",
            " 0.48952356 0.47108194 0.45500144 0.44110516 0.42913294 0.41879123\n",
            " 0.40978843 0.40185753 0.39476833 0.38833117]\n",
            "15 day output [[0.38239652]]\n",
            "16 day input [0.74486684 0.76926205 0.75991055 0.74242732 0.73958122 0.74771295\n",
            " 0.75991055 0.7584875  0.76621264 0.75462492 0.76316324 0.79670665\n",
            " 0.80585485 0.7889815  0.78003659 0.73978451 0.73002643 0.73490547\n",
            " 0.74872942 0.75991055 0.75462492 0.75401504 0.76174019 0.7737345\n",
            " 0.82008538 0.80585485 0.81154706 0.77434438 0.78633869 0.79284407\n",
            " 0.78328929 0.77109169 0.74385038 0.71193332 0.68733482 0.67818662\n",
            " 0.65257166 0.64301687 0.65643423 0.67656028 0.67371417 0.65114861\n",
            " 0.65521447 0.66761537 0.67838992 0.69993901 0.63122586 0.63508843\n",
            " 0.64098394 0.64545639 0.64118723 0.63854442 0.63081927 0.62472047\n",
            " 0.6330555  0.64728603 0.6574507  0.66761537 0.66720878 0.64159382\n",
            " 0.62776987 0.63651149 0.63630819 0.62980281 0.62817646 0.63813783\n",
            " 0.65358813 0.63183574 0.57653995 0.57816629 0.57613336 0.61943484\n",
            " 0.57979264 0.57288067 0.62573694 0.63102257 0.6361049  0.62776987\n",
            " 0.6269567  0.63590161 0.62594023 0.6391543  0.62614353 0.62268754\n",
            " 0.60833991 0.58404946 0.55824244 0.53340966 0.51035833 0.48952356\n",
            " 0.47108194 0.45500144 0.44110516 0.42913294 0.41879123 0.40978843\n",
            " 0.40185753 0.39476833 0.38833117 0.38239652]\n",
            "16 day output [[0.37684998]]\n",
            "17 day input [0.76926205 0.75991055 0.74242732 0.73958122 0.74771295 0.75991055\n",
            " 0.7584875  0.76621264 0.75462492 0.76316324 0.79670665 0.80585485\n",
            " 0.7889815  0.78003659 0.73978451 0.73002643 0.73490547 0.74872942\n",
            " 0.75991055 0.75462492 0.75401504 0.76174019 0.7737345  0.82008538\n",
            " 0.80585485 0.81154706 0.77434438 0.78633869 0.79284407 0.78328929\n",
            " 0.77109169 0.74385038 0.71193332 0.68733482 0.67818662 0.65257166\n",
            " 0.64301687 0.65643423 0.67656028 0.67371417 0.65114861 0.65521447\n",
            " 0.66761537 0.67838992 0.69993901 0.63122586 0.63508843 0.64098394\n",
            " 0.64545639 0.64118723 0.63854442 0.63081927 0.62472047 0.6330555\n",
            " 0.64728603 0.6574507  0.66761537 0.66720878 0.64159382 0.62776987\n",
            " 0.63651149 0.63630819 0.62980281 0.62817646 0.63813783 0.65358813\n",
            " 0.63183574 0.57653995 0.57816629 0.57613336 0.61943484 0.57979264\n",
            " 0.57288067 0.62573694 0.63102257 0.6361049  0.62776987 0.6269567\n",
            " 0.63590161 0.62594023 0.6391543  0.62614353 0.62268754 0.60833991\n",
            " 0.58404946 0.55824244 0.53340966 0.51035833 0.48952356 0.47108194\n",
            " 0.45500144 0.44110516 0.42913294 0.41879123 0.40978843 0.40185753\n",
            " 0.39476833 0.38833117 0.38239652 0.37684998]\n",
            "17 day output [[0.37160704]]\n",
            "18 day input [0.75991055 0.74242732 0.73958122 0.74771295 0.75991055 0.7584875\n",
            " 0.76621264 0.75462492 0.76316324 0.79670665 0.80585485 0.7889815\n",
            " 0.78003659 0.73978451 0.73002643 0.73490547 0.74872942 0.75991055\n",
            " 0.75462492 0.75401504 0.76174019 0.7737345  0.82008538 0.80585485\n",
            " 0.81154706 0.77434438 0.78633869 0.79284407 0.78328929 0.77109169\n",
            " 0.74385038 0.71193332 0.68733482 0.67818662 0.65257166 0.64301687\n",
            " 0.65643423 0.67656028 0.67371417 0.65114861 0.65521447 0.66761537\n",
            " 0.67838992 0.69993901 0.63122586 0.63508843 0.64098394 0.64545639\n",
            " 0.64118723 0.63854442 0.63081927 0.62472047 0.6330555  0.64728603\n",
            " 0.6574507  0.66761537 0.66720878 0.64159382 0.62776987 0.63651149\n",
            " 0.63630819 0.62980281 0.62817646 0.63813783 0.65358813 0.63183574\n",
            " 0.57653995 0.57816629 0.57613336 0.61943484 0.57979264 0.57288067\n",
            " 0.62573694 0.63102257 0.6361049  0.62776987 0.6269567  0.63590161\n",
            " 0.62594023 0.6391543  0.62614353 0.62268754 0.60833991 0.58404946\n",
            " 0.55824244 0.53340966 0.51035833 0.48952356 0.47108194 0.45500144\n",
            " 0.44110516 0.42913294 0.41879123 0.40978843 0.40185753 0.39476833\n",
            " 0.38833117 0.38239652 0.37684998 0.37160704]\n",
            "18 day output [[0.3666069]]\n",
            "19 day input [0.74242732 0.73958122 0.74771295 0.75991055 0.7584875  0.76621264\n",
            " 0.75462492 0.76316324 0.79670665 0.80585485 0.7889815  0.78003659\n",
            " 0.73978451 0.73002643 0.73490547 0.74872942 0.75991055 0.75462492\n",
            " 0.75401504 0.76174019 0.7737345  0.82008538 0.80585485 0.81154706\n",
            " 0.77434438 0.78633869 0.79284407 0.78328929 0.77109169 0.74385038\n",
            " 0.71193332 0.68733482 0.67818662 0.65257166 0.64301687 0.65643423\n",
            " 0.67656028 0.67371417 0.65114861 0.65521447 0.66761537 0.67838992\n",
            " 0.69993901 0.63122586 0.63508843 0.64098394 0.64545639 0.64118723\n",
            " 0.63854442 0.63081927 0.62472047 0.6330555  0.64728603 0.6574507\n",
            " 0.66761537 0.66720878 0.64159382 0.62776987 0.63651149 0.63630819\n",
            " 0.62980281 0.62817646 0.63813783 0.65358813 0.63183574 0.57653995\n",
            " 0.57816629 0.57613336 0.61943484 0.57979264 0.57288067 0.62573694\n",
            " 0.63102257 0.6361049  0.62776987 0.6269567  0.63590161 0.62594023\n",
            " 0.6391543  0.62614353 0.62268754 0.60833991 0.58404946 0.55824244\n",
            " 0.53340966 0.51035833 0.48952356 0.47108194 0.45500144 0.44110516\n",
            " 0.42913294 0.41879123 0.40978843 0.40185753 0.39476833 0.38833117\n",
            " 0.38239652 0.37684998 0.37160704 0.36660689]\n",
            "19 day output [[0.36180696]]\n",
            "20 day input [0.73958122 0.74771295 0.75991055 0.7584875  0.76621264 0.75462492\n",
            " 0.76316324 0.79670665 0.80585485 0.7889815  0.78003659 0.73978451\n",
            " 0.73002643 0.73490547 0.74872942 0.75991055 0.75462492 0.75401504\n",
            " 0.76174019 0.7737345  0.82008538 0.80585485 0.81154706 0.77434438\n",
            " 0.78633869 0.79284407 0.78328929 0.77109169 0.74385038 0.71193332\n",
            " 0.68733482 0.67818662 0.65257166 0.64301687 0.65643423 0.67656028\n",
            " 0.67371417 0.65114861 0.65521447 0.66761537 0.67838992 0.69993901\n",
            " 0.63122586 0.63508843 0.64098394 0.64545639 0.64118723 0.63854442\n",
            " 0.63081927 0.62472047 0.6330555  0.64728603 0.6574507  0.66761537\n",
            " 0.66720878 0.64159382 0.62776987 0.63651149 0.63630819 0.62980281\n",
            " 0.62817646 0.63813783 0.65358813 0.63183574 0.57653995 0.57816629\n",
            " 0.57613336 0.61943484 0.57979264 0.57288067 0.62573694 0.63102257\n",
            " 0.6361049  0.62776987 0.6269567  0.63590161 0.62594023 0.6391543\n",
            " 0.62614353 0.62268754 0.60833991 0.58404946 0.55824244 0.53340966\n",
            " 0.51035833 0.48952356 0.47108194 0.45500144 0.44110516 0.42913294\n",
            " 0.41879123 0.40978843 0.40185753 0.39476833 0.38833117 0.38239652\n",
            " 0.37684998 0.37160704 0.36660689 0.36180696]\n",
            "20 day output [[0.3571782]]\n",
            "21 day input [0.74771295 0.75991055 0.7584875  0.76621264 0.75462492 0.76316324\n",
            " 0.79670665 0.80585485 0.7889815  0.78003659 0.73978451 0.73002643\n",
            " 0.73490547 0.74872942 0.75991055 0.75462492 0.75401504 0.76174019\n",
            " 0.7737345  0.82008538 0.80585485 0.81154706 0.77434438 0.78633869\n",
            " 0.79284407 0.78328929 0.77109169 0.74385038 0.71193332 0.68733482\n",
            " 0.67818662 0.65257166 0.64301687 0.65643423 0.67656028 0.67371417\n",
            " 0.65114861 0.65521447 0.66761537 0.67838992 0.69993901 0.63122586\n",
            " 0.63508843 0.64098394 0.64545639 0.64118723 0.63854442 0.63081927\n",
            " 0.62472047 0.6330555  0.64728603 0.6574507  0.66761537 0.66720878\n",
            " 0.64159382 0.62776987 0.63651149 0.63630819 0.62980281 0.62817646\n",
            " 0.63813783 0.65358813 0.63183574 0.57653995 0.57816629 0.57613336\n",
            " 0.61943484 0.57979264 0.57288067 0.62573694 0.63102257 0.6361049\n",
            " 0.62776987 0.6269567  0.63590161 0.62594023 0.6391543  0.62614353\n",
            " 0.62268754 0.60833991 0.58404946 0.55824244 0.53340966 0.51035833\n",
            " 0.48952356 0.47108194 0.45500144 0.44110516 0.42913294 0.41879123\n",
            " 0.40978843 0.40185753 0.39476833 0.38833117 0.38239652 0.37684998\n",
            " 0.37160704 0.36660689 0.36180696 0.35717821]\n",
            "21 day output [[0.35270137]]\n",
            "22 day input [0.75991055 0.7584875  0.76621264 0.75462492 0.76316324 0.79670665\n",
            " 0.80585485 0.7889815  0.78003659 0.73978451 0.73002643 0.73490547\n",
            " 0.74872942 0.75991055 0.75462492 0.75401504 0.76174019 0.7737345\n",
            " 0.82008538 0.80585485 0.81154706 0.77434438 0.78633869 0.79284407\n",
            " 0.78328929 0.77109169 0.74385038 0.71193332 0.68733482 0.67818662\n",
            " 0.65257166 0.64301687 0.65643423 0.67656028 0.67371417 0.65114861\n",
            " 0.65521447 0.66761537 0.67838992 0.69993901 0.63122586 0.63508843\n",
            " 0.64098394 0.64545639 0.64118723 0.63854442 0.63081927 0.62472047\n",
            " 0.6330555  0.64728603 0.6574507  0.66761537 0.66720878 0.64159382\n",
            " 0.62776987 0.63651149 0.63630819 0.62980281 0.62817646 0.63813783\n",
            " 0.65358813 0.63183574 0.57653995 0.57816629 0.57613336 0.61943484\n",
            " 0.57979264 0.57288067 0.62573694 0.63102257 0.6361049  0.62776987\n",
            " 0.6269567  0.63590161 0.62594023 0.6391543  0.62614353 0.62268754\n",
            " 0.60833991 0.58404946 0.55824244 0.53340966 0.51035833 0.48952356\n",
            " 0.47108194 0.45500144 0.44110516 0.42913294 0.41879123 0.40978843\n",
            " 0.40185753 0.39476833 0.38833117 0.38239652 0.37684998 0.37160704\n",
            " 0.36660689 0.36180696 0.35717821 0.35270137]\n",
            "22 day output [[0.3483638]]\n",
            "23 day input [0.7584875  0.76621264 0.75462492 0.76316324 0.79670665 0.80585485\n",
            " 0.7889815  0.78003659 0.73978451 0.73002643 0.73490547 0.74872942\n",
            " 0.75991055 0.75462492 0.75401504 0.76174019 0.7737345  0.82008538\n",
            " 0.80585485 0.81154706 0.77434438 0.78633869 0.79284407 0.78328929\n",
            " 0.77109169 0.74385038 0.71193332 0.68733482 0.67818662 0.65257166\n",
            " 0.64301687 0.65643423 0.67656028 0.67371417 0.65114861 0.65521447\n",
            " 0.66761537 0.67838992 0.69993901 0.63122586 0.63508843 0.64098394\n",
            " 0.64545639 0.64118723 0.63854442 0.63081927 0.62472047 0.6330555\n",
            " 0.64728603 0.6574507  0.66761537 0.66720878 0.64159382 0.62776987\n",
            " 0.63651149 0.63630819 0.62980281 0.62817646 0.63813783 0.65358813\n",
            " 0.63183574 0.57653995 0.57816629 0.57613336 0.61943484 0.57979264\n",
            " 0.57288067 0.62573694 0.63102257 0.6361049  0.62776987 0.6269567\n",
            " 0.63590161 0.62594023 0.6391543  0.62614353 0.62268754 0.60833991\n",
            " 0.58404946 0.55824244 0.53340966 0.51035833 0.48952356 0.47108194\n",
            " 0.45500144 0.44110516 0.42913294 0.41879123 0.40978843 0.40185753\n",
            " 0.39476833 0.38833117 0.38239652 0.37684998 0.37160704 0.36660689\n",
            " 0.36180696 0.35717821 0.35270137 0.34836379]\n",
            "23 day output [[0.34415752]]\n",
            "24 day input [0.76621264 0.75462492 0.76316324 0.79670665 0.80585485 0.7889815\n",
            " 0.78003659 0.73978451 0.73002643 0.73490547 0.74872942 0.75991055\n",
            " 0.75462492 0.75401504 0.76174019 0.7737345  0.82008538 0.80585485\n",
            " 0.81154706 0.77434438 0.78633869 0.79284407 0.78328929 0.77109169\n",
            " 0.74385038 0.71193332 0.68733482 0.67818662 0.65257166 0.64301687\n",
            " 0.65643423 0.67656028 0.67371417 0.65114861 0.65521447 0.66761537\n",
            " 0.67838992 0.69993901 0.63122586 0.63508843 0.64098394 0.64545639\n",
            " 0.64118723 0.63854442 0.63081927 0.62472047 0.6330555  0.64728603\n",
            " 0.6574507  0.66761537 0.66720878 0.64159382 0.62776987 0.63651149\n",
            " 0.63630819 0.62980281 0.62817646 0.63813783 0.65358813 0.63183574\n",
            " 0.57653995 0.57816629 0.57613336 0.61943484 0.57979264 0.57288067\n",
            " 0.62573694 0.63102257 0.6361049  0.62776987 0.6269567  0.63590161\n",
            " 0.62594023 0.6391543  0.62614353 0.62268754 0.60833991 0.58404946\n",
            " 0.55824244 0.53340966 0.51035833 0.48952356 0.47108194 0.45500144\n",
            " 0.44110516 0.42913294 0.41879123 0.40978843 0.40185753 0.39476833\n",
            " 0.38833117 0.38239652 0.37684998 0.37160704 0.36660689 0.36180696\n",
            " 0.35717821 0.35270137 0.34836379 0.34415752]\n",
            "24 day output [[0.34007746]]\n",
            "25 day input [0.75462492 0.76316324 0.79670665 0.80585485 0.7889815  0.78003659\n",
            " 0.73978451 0.73002643 0.73490547 0.74872942 0.75991055 0.75462492\n",
            " 0.75401504 0.76174019 0.7737345  0.82008538 0.80585485 0.81154706\n",
            " 0.77434438 0.78633869 0.79284407 0.78328929 0.77109169 0.74385038\n",
            " 0.71193332 0.68733482 0.67818662 0.65257166 0.64301687 0.65643423\n",
            " 0.67656028 0.67371417 0.65114861 0.65521447 0.66761537 0.67838992\n",
            " 0.69993901 0.63122586 0.63508843 0.64098394 0.64545639 0.64118723\n",
            " 0.63854442 0.63081927 0.62472047 0.6330555  0.64728603 0.6574507\n",
            " 0.66761537 0.66720878 0.64159382 0.62776987 0.63651149 0.63630819\n",
            " 0.62980281 0.62817646 0.63813783 0.65358813 0.63183574 0.57653995\n",
            " 0.57816629 0.57613336 0.61943484 0.57979264 0.57288067 0.62573694\n",
            " 0.63102257 0.6361049  0.62776987 0.6269567  0.63590161 0.62594023\n",
            " 0.6391543  0.62614353 0.62268754 0.60833991 0.58404946 0.55824244\n",
            " 0.53340966 0.51035833 0.48952356 0.47108194 0.45500144 0.44110516\n",
            " 0.42913294 0.41879123 0.40978843 0.40185753 0.39476833 0.38833117\n",
            " 0.38239652 0.37684998 0.37160704 0.36660689 0.36180696 0.35717821\n",
            " 0.35270137 0.34836379 0.34415752 0.34007746]\n",
            "25 day output [[0.3361204]]\n",
            "26 day input [0.76316324 0.79670665 0.80585485 0.7889815  0.78003659 0.73978451\n",
            " 0.73002643 0.73490547 0.74872942 0.75991055 0.75462492 0.75401504\n",
            " 0.76174019 0.7737345  0.82008538 0.80585485 0.81154706 0.77434438\n",
            " 0.78633869 0.79284407 0.78328929 0.77109169 0.74385038 0.71193332\n",
            " 0.68733482 0.67818662 0.65257166 0.64301687 0.65643423 0.67656028\n",
            " 0.67371417 0.65114861 0.65521447 0.66761537 0.67838992 0.69993901\n",
            " 0.63122586 0.63508843 0.64098394 0.64545639 0.64118723 0.63854442\n",
            " 0.63081927 0.62472047 0.6330555  0.64728603 0.6574507  0.66761537\n",
            " 0.66720878 0.64159382 0.62776987 0.63651149 0.63630819 0.62980281\n",
            " 0.62817646 0.63813783 0.65358813 0.63183574 0.57653995 0.57816629\n",
            " 0.57613336 0.61943484 0.57979264 0.57288067 0.62573694 0.63102257\n",
            " 0.6361049  0.62776987 0.6269567  0.63590161 0.62594023 0.6391543\n",
            " 0.62614353 0.62268754 0.60833991 0.58404946 0.55824244 0.53340966\n",
            " 0.51035833 0.48952356 0.47108194 0.45500144 0.44110516 0.42913294\n",
            " 0.41879123 0.40978843 0.40185753 0.39476833 0.38833117 0.38239652\n",
            " 0.37684998 0.37160704 0.36660689 0.36180696 0.35717821 0.35270137\n",
            " 0.34836379 0.34415752 0.34007746 0.3361204 ]\n",
            "26 day output [[0.33227035]]\n",
            "27 day input [0.79670665 0.80585485 0.7889815  0.78003659 0.73978451 0.73002643\n",
            " 0.73490547 0.74872942 0.75991055 0.75462492 0.75401504 0.76174019\n",
            " 0.7737345  0.82008538 0.80585485 0.81154706 0.77434438 0.78633869\n",
            " 0.79284407 0.78328929 0.77109169 0.74385038 0.71193332 0.68733482\n",
            " 0.67818662 0.65257166 0.64301687 0.65643423 0.67656028 0.67371417\n",
            " 0.65114861 0.65521447 0.66761537 0.67838992 0.69993901 0.63122586\n",
            " 0.63508843 0.64098394 0.64545639 0.64118723 0.63854442 0.63081927\n",
            " 0.62472047 0.6330555  0.64728603 0.6574507  0.66761537 0.66720878\n",
            " 0.64159382 0.62776987 0.63651149 0.63630819 0.62980281 0.62817646\n",
            " 0.63813783 0.65358813 0.63183574 0.57653995 0.57816629 0.57613336\n",
            " 0.61943484 0.57979264 0.57288067 0.62573694 0.63102257 0.6361049\n",
            " 0.62776987 0.6269567  0.63590161 0.62594023 0.6391543  0.62614353\n",
            " 0.62268754 0.60833991 0.58404946 0.55824244 0.53340966 0.51035833\n",
            " 0.48952356 0.47108194 0.45500144 0.44110516 0.42913294 0.41879123\n",
            " 0.40978843 0.40185753 0.39476833 0.38833117 0.38239652 0.37684998\n",
            " 0.37160704 0.36660689 0.36180696 0.35717821 0.35270137 0.34836379\n",
            " 0.34415752 0.34007746 0.3361204  0.33227035]\n",
            "27 day output [[0.32848316]]\n",
            "[[0.6083399057388306], [0.5840494632720947], [0.5582424402236938], [0.5334096550941467], [0.5103583335876465], [0.4895235598087311], [0.47108194231987], [0.45500144362449646], [0.4411051571369171], [0.42913293838500977], [0.4187912344932556], [0.40978842973709106], [0.40185752511024475], [0.3947683274745941], [0.38833117485046387], [0.38239651918411255], [0.3768499791622162], [0.3716070353984833], [0.3666068911552429], [0.3618069589138031], [0.3571782112121582], [0.3527013659477234], [0.3483637869358063], [0.34415751695632935], [0.3400774598121643], [0.3361203968524933], [0.3322703540325165], [0.3284831643104553]]\n"
          ]
        }
      ],
      "source": [
        "lst_output=[]\n",
        "n_steps=100\n",
        "nextNumberOfDays = 28\n",
        "i=0\n",
        "\n",
        "while(i<nextNumberOfDays):\n",
        "\n",
        "    if(len(temp_input)>100):\n",
        "        x_input=np.array(temp_input[1:])\n",
        "        print(\"{} day input {}\".format(i,x_input))\n",
        "        x_input=x_input.reshape(1,-1)\n",
        "        x_input = x_input.reshape((1, n_steps, 1))\n",
        "        yhat = model.predict(x_input, verbose=0)\n",
        "        print(\"{} day output {}\".format(i,yhat))\n",
        "        temp_input.extend(yhat[0].tolist())\n",
        "        temp_input=temp_input[1:]\n",
        "        lst_output.extend(yhat.tolist())\n",
        "        i=i+1\n",
        "    else:\n",
        "        x_input = x_input.reshape((1, n_steps,1))\n",
        "        yhat = model.predict(x_input, verbose=0)\n",
        "        print(yhat[0])\n",
        "        temp_input.extend(yhat[0].tolist())\n",
        "        print(len(temp_input))\n",
        "        lst_output.extend(yhat.tolist())\n",
        "        i=i+1\n",
        "\n",
        "\n",
        "print(lst_output)"
      ]
    },
    {
      "cell_type": "code",
      "execution_count": 35,
      "id": "f60d9b9b",
      "metadata": {
        "id": "f60d9b9b"
      },
      "outputs": [],
      "source": [
        "day_new = np.arange(1,101)\n",
        "day_pred = np.arange(101,129)"
      ]
    },
    {
      "cell_type": "code",
      "execution_count": 36,
      "id": "6d2a5104",
      "metadata": {
        "scrolled": true,
        "colab": {
          "base_uri": "https://localhost:8080/"
        },
        "id": "6d2a5104",
        "outputId": "7a196cc9-2811-400a-c1f0-ee100223d15e"
      },
      "outputs": [
        {
          "output_type": "execute_result",
          "data": {
            "text/plain": [
              "(100,)"
            ]
          },
          "metadata": {},
          "execution_count": 36
        }
      ],
      "source": [
        "day_new.shape"
      ]
    },
    {
      "cell_type": "code",
      "execution_count": 37,
      "id": "c79de538",
      "metadata": {
        "colab": {
          "base_uri": "https://localhost:8080/"
        },
        "id": "c79de538",
        "outputId": "13dd6b0f-6059-417c-da88-721893c52345"
      },
      "outputs": [
        {
          "output_type": "execute_result",
          "data": {
            "text/plain": [
              "(28,)"
            ]
          },
          "metadata": {},
          "execution_count": 37
        }
      ],
      "source": [
        "day_pred.shape"
      ]
    },
    {
      "cell_type": "code",
      "execution_count": 38,
      "id": "5f165fd9",
      "metadata": {
        "id": "5f165fd9"
      },
      "outputs": [],
      "source": [
        "df3 = df_high.tolist()\n",
        "df3.extend(lst_output)"
      ]
    },
    {
      "cell_type": "code",
      "execution_count": 39,
      "id": "8980f9d3",
      "metadata": {
        "colab": {
          "base_uri": "https://localhost:8080/"
        },
        "id": "8980f9d3",
        "outputId": "b740ba2a-fcc5-4f2c-eb3e-057e01958bf0"
      },
      "outputs": [
        {
          "output_type": "execute_result",
          "data": {
            "text/plain": [
              "2035"
            ]
          },
          "metadata": {},
          "execution_count": 39
        }
      ],
      "source": [
        "len(df_high)"
      ]
    },
    {
      "cell_type": "code",
      "execution_count": 40,
      "id": "31b319a7",
      "metadata": {
        "colab": {
          "base_uri": "https://localhost:8080/",
          "height": 447
        },
        "id": "31b319a7",
        "outputId": "55da4af8-93f0-4bac-fff8-9a3068c966ac"
      },
      "outputs": [
        {
          "output_type": "execute_result",
          "data": {
            "text/plain": [
              "[<matplotlib.lines.Line2D at 0x7f72f8780640>]"
            ]
          },
          "metadata": {},
          "execution_count": 40
        },
        {
          "output_type": "display_data",
          "data": {
            "text/plain": [
              "<Figure size 640x480 with 1 Axes>"
            ],
            "image/png": "[encoded data removed]"
          },
          "metadata": {}
        }
      ],
      "source": [
        "plt.plot(day_new, scaler.inverse_transform(df_high[1935:]))\n",
        "plt.plot(day_pred, scaler.inverse_transform(lst_output))"
      ]
    },
    {
      "cell_type": "code",
      "execution_count": 41,
      "id": "adfd4474",
      "metadata": {
        "colab": {
          "base_uri": "https://localhost:8080/",
          "height": 447
        },
        "id": "adfd4474",
        "outputId": "90753ddc-d624-473f-ee66-2ee3999cee19"
      },
      "outputs": [
        {
          "output_type": "execute_result",
          "data": {
            "text/plain": [
              "[<matplotlib.lines.Line2D at 0x7f72f87f5c90>]"
            ]
          },
          "metadata": {},
          "execution_count": 41
        },
        {
          "output_type": "display_data",
          "data": {
            "text/plain": [
              "<Figure size 640x480 with 1 Axes>"
            ],
            "image/png": "[encoded data removed]"
          },
          "metadata": {}
        }
      ],
      "source": [
        "df3=df_high.tolist()\n",
        "df3.extend(lst_output)\n",
        "plt.plot(df3[2000:])"
      ]
    },
    {
      "cell_type": "code",
      "execution_count": 42,
      "id": "73547680",
      "metadata": {
        "id": "73547680"
      },
      "outputs": [],
      "source": [
        "df3=scaler.inverse_transform(df3).tolist()"
      ]
    },
    {
      "cell_type": "code",
      "execution_count": 43,
      "id": "beebd090",
      "metadata": {
        "colab": {
          "base_uri": "https://localhost:8080/",
          "height": 447
        },
        "id": "beebd090",
        "outputId": "cc754955-d279-4b49-c27f-9a07337c9524"
      },
      "outputs": [
        {
          "output_type": "execute_result",
          "data": {
            "text/plain": [
              "[<matplotlib.lines.Line2D at 0x7f72f85104c0>]"
            ]
          },
          "metadata": {},
          "execution_count": 43
        },
        {
          "output_type": "display_data",
          "data": {
            "text/plain": [
              "<Figure size 640x480 with 1 Axes>"
            ],
            "image/png": "[encoded data removed]"
          },
          "metadata": {}
        }
      ],
      "source": [
        "plt.plot(df3)"
      ]
    },
    {
      "cell_type": "markdown",
      "id": "43d8005a",
      "metadata": {
        "id": "43d8005a"
      },
      "source": [
        "# THANK YOU !"
      ]
    }
  ],
  "metadata": {
    "kernelspec": {
      "display_name": "Python 3 (ipykernel)",
      "language": "python",
      "name": "python3"
    },
    "language_info": {
      "codemirror_mode": {
        "name": "ipython",
        "version": 3
      },
      "file_extension": ".py",
      "mimetype": "text/x-python",
      "name": "python",
      "nbconvert_exporter": "python",
      "pygments_lexer": "ipython3",
      "version": "3.10.6"
    },
    "colab": {
      "provenance": []
    }
  },
  "nbformat": 4,
  "nbformat_minor": 5
}